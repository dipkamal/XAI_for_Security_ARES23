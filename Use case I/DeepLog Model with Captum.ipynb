{
 "cells": [
  {
   "cell_type": "markdown",
   "id": "450e5655",
   "metadata": {},
   "source": [
    "# DeepLog Model with Captum"
   ]
  },
  {
   "cell_type": "code",
   "execution_count": 16,
   "id": "8fb28a7d",
   "metadata": {},
   "outputs": [],
   "source": [
    "# Using DeepAid for model interpretability \n",
    "#!pip install gdown\n",
    "#!gdown 1mhraNt2Z8X6S6dFjjRN_hK3ph3sXPmjR\n",
    "#!pip install prettytable"
   ]
  },
  {
   "cell_type": "code",
   "execution_count": 3,
   "id": "e1e23d0e",
   "metadata": {},
   "outputs": [],
   "source": [
    "import numpy as np\n",
    "from sklearn.metrics import confusion_matrix, roc_curve\n",
    "import torch\n",
    "import pandas as pd\n",
    "def validate_by_rmse(rmse_vec,thres,label):\n",
    "    pred = np.asarray([0] * len(rmse_vec))\n",
    "    idx = np.where(rmse_vec>thres)\n",
    "    pred[idx] = 1\n",
    "    cnf_matrix = confusion_matrix(label, pred)\n",
    "    FP = cnf_matrix.sum(axis=0) - np.diag(cnf_matrix)  \n",
    "    FN = cnf_matrix.sum(axis=1) - np.diag(cnf_matrix)\n",
    "    TP = np.diag(cnf_matrix)\n",
    "    TN = cnf_matrix.sum() - (FP + FN + TP)\n",
    "\n",
    "    FP = FP.astype(float)\n",
    "    FN = FN.astype(float)\n",
    "    TP = TP.astype(float)\n",
    "    TN = TN.astype(float)\n",
    "\n",
    "    TPR = (TP/(TP+FN))[1]\n",
    "    FPR = (FP/(FP+TN))[1]\n",
    "    print(\"TPR:\",TPR,\"|FPR:\",FPR)\n",
    "\n",
    "    return pred\n",
    "\n",
    "class Normalizer:\n",
    "    def __init__(self, \n",
    "            dim, \n",
    "            normer=\"minmax\",\n",
    "            online_minmax=False): # whether fit_transform online (see Kitsune), *available only for normer=\"minmax\"\n",
    "\n",
    "        self.dim = dim # feature dimensionality\n",
    "        self.normer = normer\n",
    "        if self.normer == 'minmax':\n",
    "            self.online_minmax = online_minmax\n",
    "            self.norm_max = [-np.Inf] * self.dim\n",
    "            self.norm_min = [np.Inf] * self.dim\n",
    "        else:\n",
    "            raise NotImplementedError # Implement other Normalizer here\n",
    "        \n",
    "    def fit_transform(self,train_feat):\n",
    "        if self.normer == 'minmax':\n",
    "            return self._minmax_fit_transform(train_feat)\n",
    "        else:\n",
    "            raise NotImplementedError # Implement other Normalizer here\n",
    "\n",
    "    def transform(self,feat):\n",
    "        if self.normer == 'minmax':\n",
    "            return self._minmax_transform(feat)\n",
    "        else:\n",
    "            raise NotImplementedError # Implement other Normalizer here\n",
    "\n",
    "    def restore(self,feat):\n",
    "        if self.normer == 'minmax':\n",
    "            return self._minmax_restore(feat)\n",
    "        else:\n",
    "            raise NotImplementedError # Implement other Normalizer here\n",
    "        \n",
    "    def _minmax_fit_transform(self,train_feat):\n",
    "        if not self.online_minmax:\n",
    "            self.norm_min = np.min(train_feat,axis=0)\n",
    "            self.norm_max = np.max(train_feat,axis=0)\n",
    "            norm_feat = (train_feat - self.norm_min) / (self.norm_max-self.norm_min+1e-10)\n",
    "            return norm_feat\n",
    "        else:\n",
    "            norm_feat = []\n",
    "            self.norm_max, self.norm_min = np.asarray(self.norm_max), np.asarray(self.norm_min)\n",
    "            for i in range(len(train_feat)):\n",
    "                x = train_feat[i]\n",
    "                self.norm_max[x>self.norm_max] = x[x>self.norm_max]\n",
    "                self.norm_min[x<self.norm_min] = x[x<self.norm_min]\n",
    "                norm_feat.append((x - self.norm_min) / (self.norm_max-self.norm_min+1e-10))\n",
    "            return np.asarray(norm_feat)\n",
    "\n",
    "    def _minmax_transform(self, feat):\n",
    "        norm_feat = (feat - self.norm_min) / (self.norm_max-self.norm_min+1e-10)\n",
    "        return norm_feat\n",
    "\n",
    "    def _minmax_restore(self, feat):\n",
    "        denorm_feat = feat * (self.norm_max-self.norm_min+1e-10) + self.norm_min\n",
    "        return denorm_feat\n",
    "    \n",
    "\n",
    "\n",
    "\"\"\" Deeplog tools \"\"\"\n",
    "def deeplogtools_seqformat(model, abnormal_data, num_candidates, index=0):\n",
    "    import keras.utils.np_utils as np_utils\n",
    "    device = torch.device(\"cuda\" if torch.cuda.is_available() else \"cpu\")\n",
    "\n",
    "    X = abnormal_data.copy()\n",
    "    y, X = X[:,-1], np_utils.to_categorical(X[:,:-1])\n",
    "    Output = model(torch.from_numpy(X).type(torch.float).to(device))\n",
    "    TP_idx = []\n",
    "    for i in range(len(Output)):\n",
    "        output = Output[i]\n",
    "        label = y[i]\n",
    "        predicted = torch.argsort(output)[-num_candidates:]\n",
    "        if label not in predicted:\n",
    "            TP_idx.append(i)\n",
    "    seq_feat = np_utils.to_categorical(abnormal_data[TP_idx])\n",
    "    feat = seq_feat[index]\n",
    "    seq = torch.from_numpy(feat[:-1,:]).to(device)\n",
    "    label = torch.tensor(np.argmax(feat[-1])).unsqueeze(0).to(device)\n",
    "    return seq,label, abnormal_data[TP_idx][index]\n",
    "\n",
    "\"\"\" Multi LSTM tools \"\"\"\n",
    "def multiLSTM_seqformat(test_feat, seq_len = 5, index=0):\n",
    "    import more_itertools\n",
    "\n",
    "    X_test = more_itertools.windowed(test_feat[:,:],n=seq_len,step=1)\n",
    "    X_test = np.asarray(list(X_test))\n",
    "    y_test = np.asarray(test_feat[seq_len-1:])\n",
    "\n",
    "    # print(\"X_test:\",X_test.shape,\"y_test:\",y_test.shape)\n",
    "    i = index\n",
    "    interp_feat = y_test[i]\n",
    "    seq_feat = np.asarray([X_test[i]]) \n",
    "    # print(\"seq_feat:\",seq_feat.shape,\"interp_feat:\",interp_feat.shape)\n",
    "\n",
    "    return seq_feat, interp_feat"
   ]
  },
  {
   "cell_type": "code",
   "execution_count": 4,
   "id": "1e34a9a8",
   "metadata": {},
   "outputs": [],
   "source": [
    "import sys\n",
    "# sys.path.insert(1,'/deepaid')\n",
    "\n",
    "#sys.path.append('deepaid.deeplog')\n",
    "\n",
    "sys.path.insert(1,'deepaid')\n",
    "\n",
    "from deepaid.deeplog import *\n",
    "\n",
    "from deepaid.deeplog import LSTM_onehot\n",
    "import torch"
   ]
  },
  {
   "cell_type": "code",
   "execution_count": 5,
   "id": "361f750b",
   "metadata": {},
   "outputs": [
    {
     "data": {
      "text/plain": [
       "LSTM_onehot(\n",
       "  (lstm): LSTM(28, 64, num_layers=2, batch_first=True)\n",
       "  (fc): Linear(in_features=64, out_features=28, bias=True)\n",
       ")"
      ]
     },
     "execution_count": 5,
     "metadata": {},
     "output_type": "execute_result"
    }
   ],
   "source": [
    "# Import the model\n",
    "model = torch.load(\"LSTM_onehot.pth.tar\", map_location=torch.device('cpu'))\n",
    "model.eval()"
   ]
  },
  {
   "cell_type": "code",
   "execution_count": 6,
   "id": "47ef2c5b",
   "metadata": {},
   "outputs": [],
   "source": [
    "\"\"\"Step 2: Find an anomaly you are interested in\"\"\"\n",
    "abnormal_data = np.load('deepaid/abnormal_data.npy')\n",
    "idx = 100\n",
    "seq, label, anomaly_timeseries = deeplogtools_seqformat(model, abnormal_data, num_candidates=9, index=idx)"
   ]
  },
  {
   "cell_type": "code",
   "execution_count": 7,
   "id": "267b2467",
   "metadata": {},
   "outputs": [
    {
     "name": "stdout",
     "output_type": "stream",
     "text": [
      "Successfully Initialize <Univariate Timeseries Interptreter> for Model <LSTM_onehot>\n",
      "\n",
      "Visualize Interpretation (Table View)\n",
      "+------+-------------------------------------+-------+------+-------------------------------------+\n",
      "| Ano. |               Meaning               | Diff. | Ref. |               Meaning*              |\n",
      "+------+-------------------------------------+-------+------+-------------------------------------+\n",
      "|  4   |      Receiving blk* src&dest:*      |       |  4   |      Receiving blk* src&dest:*      |\n",
      "|  10  |  PktResponder* for blk* terminating |       |  10  |  PktResponder* for blk* terminating |\n",
      "|  9   |       PktResponder* Exception       |       |  9   |       PktResponder* Exception       |\n",
      "|  13  |  Exception in receiveBlock for blk* |       |  13  |  Exception in receiveBlock for blk* |\n",
      "|  6   |   writeBlock* received exception*   |       |  6   |   writeBlock* received exception*   |\n",
      "|  7   | PktResponder* for blk* Interrupted. |       |  7   | PktResponder* for blk* Interrupted. |\n",
      "|  10  |  PktResponder* for blk* terminating |       |  10  |  PktResponder* for blk* terminating |\n",
      "|  13  |  Exception in receiveBlock for blk* |       |  13  |  Exception in receiveBlock for blk* |\n",
      "|  6   |   writeBlock* received exception*   |       |  6   |   writeBlock* received exception*   |\n",
      "|  10  |  PktResponder* for blk* terminating |       |  10  |  PktResponder* for blk* terminating |\n",
      "|  9   |       PktResponder* Exception       |   !=  |  1   |        Verification succeeded       |\n",
      "+------+-------------------------------------+-------+------+-------------------------------------+\n"
     ]
    },
    {
     "name": "stderr",
     "output_type": "stream",
     "text": [
      "/Users/ajayshewale/SoK-Security/deepaid/timeseries_onehot.py:61: UserWarning: Implicit dimension choice for softmax has been deprecated. Change the call to include dim=X as an argument.\n",
      "  loss_accuracy = Bound(self.bound_thres-Logit(out)[label[0]])\n",
      "/Users/ajayshewale/SoK-Security/deepaid/timeseries_onehot.py:74: UserWarning: Implicit dimension choice for softmax has been deprecated. Change the call to include dim=X as an argument.\n",
      "  if torch.max(Logit(out)).cpu().data > self.pos_thres:\n",
      "/Users/ajayshewale/SoK-Security/deepaid/timeseries_onehot.py:77: UserWarning: Implicit dimension choice for softmax has been deprecated. Change the call to include dim=X as an argument.\n",
      "  IDX2.append(torch.argmax(Logit(out)).cpu().data.numpy().tolist())\n"
     ]
    }
   ],
   "source": [
    "\"\"\"Step 3: Create a DeepAID Interpreter\"\"\"\n",
    "\n",
    "from timeseries_onehot import UniTimeseriesAID\n",
    "feature_desc = np.load('deepaid/log_key_meanning.npy') # feature_description\n",
    "my_interpreter = UniTimeseriesAID(model, feature_desc=feature_desc, class_num=28)\n",
    "\n",
    "\"\"\"Step 4: Interpret your anomaly and show the result\"\"\"\n",
    "interpretation = my_interpreter(seq, label)\n",
    "my_interpreter.show_table(anomaly_timeseries, interpretation)"
   ]
  },
  {
   "cell_type": "code",
   "execution_count": null,
   "id": "7f6393a4",
   "metadata": {},
   "outputs": [],
   "source": []
  },
  {
   "cell_type": "markdown",
   "id": "68d22dc2",
   "metadata": {},
   "source": [
    "## Run XAI methods from Captum"
   ]
  },
  {
   "cell_type": "code",
   "execution_count": 8,
   "id": "f939f201",
   "metadata": {},
   "outputs": [],
   "source": [
    "from captum.attr import IntegratedGradients, InputXGradient, DeepLift, GradientShap, GradientAttribution, Lime, Occlusion, KernelShap, Saliency"
   ]
  },
  {
   "cell_type": "code",
   "execution_count": 9,
   "id": "7a31eefb",
   "metadata": {},
   "outputs": [],
   "source": [
    "# Will store results for all the XAI methods which we ran\n",
    "df = pd.DataFrame()"
   ]
  },
  {
   "cell_type": "code",
   "execution_count": 11,
   "id": "f2982308",
   "metadata": {},
   "outputs": [],
   "source": [
    "# Helper Function to get the weight value\n",
    "def get_weights(attr, anomaly_timeseries):\n",
    "    attr_weights = []\n",
    "    for index, val in enumerate(attr):\n",
    "    #     print(anomaly_timeseries[index])\n",
    "        anom_val = anomaly_timeseries[index]\n",
    "        # get the anomaly_timeseries value\n",
    "        temp_wieght = val[anom_val].item()\n",
    "        attr_weights.append(temp_wieght)\n",
    "    \n",
    "    return attr_weights"
   ]
  },
  {
   "cell_type": "code",
   "execution_count": null,
   "id": "3cad0147",
   "metadata": {
    "scrolled": true
   },
   "outputs": [],
   "source": []
  },
  {
   "cell_type": "markdown",
   "id": "d9d281ad",
   "metadata": {},
   "source": [
    "## Gradient"
   ]
  },
  {
   "cell_type": "code",
   "execution_count": 132,
   "id": "ce84fc84",
   "metadata": {},
   "outputs": [
    {
     "name": "stderr",
     "output_type": "stream",
     "text": [
      "/Users/ajayshewale/miniforge3/envs/explainable_env/lib/python3.10/site-packages/captum/_utils/gradient.py:57: UserWarning: Input Tensor 0 did not already require gradients, required_grads has been set automatically.\n",
      "  warnings.warn(\n"
     ]
    }
   ],
   "source": [
    "saliency = Saliency(model)\n",
    "\n",
    "saliency_attributions = saliency.attribute(seq.unsqueeze(0), target=label)\n",
    "saliency_attr = saliency_attributions[0].to(torch.float32)"
   ]
  },
  {
   "cell_type": "code",
   "execution_count": 133,
   "id": "c1a9db2b",
   "metadata": {},
   "outputs": [],
   "source": [
    "saliency_attr_weights = get_weights(saliency_attr, anomaly_timeseries)"
   ]
  },
  {
   "cell_type": "code",
   "execution_count": 134,
   "id": "ee591c19",
   "metadata": {},
   "outputs": [],
   "source": [
    "df[\"Gradient\"] = saliency_attr_weights"
   ]
  },
  {
   "cell_type": "code",
   "execution_count": 12,
   "id": "a7a870bb",
   "metadata": {},
   "outputs": [
    {
     "data": {
      "text/html": [
       "<div>\n",
       "<style scoped>\n",
       "    .dataframe tbody tr th:only-of-type {\n",
       "        vertical-align: middle;\n",
       "    }\n",
       "\n",
       "    .dataframe tbody tr th {\n",
       "        vertical-align: top;\n",
       "    }\n",
       "\n",
       "    .dataframe thead th {\n",
       "        text-align: right;\n",
       "    }\n",
       "</style>\n",
       "<table border=\"1\" class=\"dataframe\">\n",
       "  <thead>\n",
       "    <tr style=\"text-align: right;\">\n",
       "      <th></th>\n",
       "    </tr>\n",
       "  </thead>\n",
       "  <tbody>\n",
       "  </tbody>\n",
       "</table>\n",
       "</div>"
      ],
      "text/plain": [
       "Empty DataFrame\n",
       "Columns: []\n",
       "Index: []"
      ]
     },
     "execution_count": 12,
     "metadata": {},
     "output_type": "execute_result"
    }
   ],
   "source": [
    "df.head()"
   ]
  },
  {
   "cell_type": "markdown",
   "id": "e0a44660",
   "metadata": {},
   "source": [
    "## InputXGradient"
   ]
  },
  {
   "cell_type": "code",
   "execution_count": 71,
   "id": "0238d777",
   "metadata": {
    "scrolled": true
   },
   "outputs": [
    {
     "name": "stderr",
     "output_type": "stream",
     "text": [
      "/Users/ajayshewale/miniforge3/envs/explainable_env/lib/python3.10/site-packages/captum/_utils/gradient.py:57: UserWarning: Input Tensor 0 did not already require gradients, required_grads has been set automatically.\n",
      "  warnings.warn(\n"
     ]
    }
   ],
   "source": [
    "inputGrad = InputXGradient(model)\n",
    "\n",
    "inputGrad_attributions = inputGrad.attribute(seq.unsqueeze(0), target=label)\n",
    "inputGrad_attr = inputGrad_attributions[0].to(torch.float32)"
   ]
  },
  {
   "cell_type": "code",
   "execution_count": 72,
   "id": "ad3403ef",
   "metadata": {},
   "outputs": [],
   "source": [
    "inputGrad_attr_weights = get_weights(inputGrad_attr, anomaly_timeseries)"
   ]
  },
  {
   "cell_type": "code",
   "execution_count": 73,
   "id": "f438ea42",
   "metadata": {},
   "outputs": [],
   "source": [
    "df[\"inputGrad\"] = inputGrad_attr_weights"
   ]
  },
  {
   "cell_type": "code",
   "execution_count": 84,
   "id": "68f79175",
   "metadata": {},
   "outputs": [
    {
     "data": {
      "text/html": [
       "<div>\n",
       "<style scoped>\n",
       "    .dataframe tbody tr th:only-of-type {\n",
       "        vertical-align: middle;\n",
       "    }\n",
       "\n",
       "    .dataframe tbody tr th {\n",
       "        vertical-align: top;\n",
       "    }\n",
       "\n",
       "    .dataframe thead th {\n",
       "        text-align: right;\n",
       "    }\n",
       "</style>\n",
       "<table border=\"1\" class=\"dataframe\">\n",
       "  <thead>\n",
       "    <tr style=\"text-align: right;\">\n",
       "      <th></th>\n",
       "      <th>inputGrad</th>\n",
       "      <th>IntegratedGradients</th>\n",
       "      <th>deepLift</th>\n",
       "    </tr>\n",
       "  </thead>\n",
       "  <tbody>\n",
       "    <tr>\n",
       "      <th>0</th>\n",
       "      <td>1.108235</td>\n",
       "      <td>-0.670030</td>\n",
       "      <td>1.108236</td>\n",
       "    </tr>\n",
       "    <tr>\n",
       "      <th>1</th>\n",
       "      <td>0.436778</td>\n",
       "      <td>0.488253</td>\n",
       "      <td>0.436778</td>\n",
       "    </tr>\n",
       "    <tr>\n",
       "      <th>2</th>\n",
       "      <td>-0.196666</td>\n",
       "      <td>0.084237</td>\n",
       "      <td>-0.196666</td>\n",
       "    </tr>\n",
       "    <tr>\n",
       "      <th>3</th>\n",
       "      <td>-0.060618</td>\n",
       "      <td>-0.003849</td>\n",
       "      <td>-0.060618</td>\n",
       "    </tr>\n",
       "    <tr>\n",
       "      <th>4</th>\n",
       "      <td>0.122957</td>\n",
       "      <td>0.052001</td>\n",
       "      <td>0.122957</td>\n",
       "    </tr>\n",
       "    <tr>\n",
       "      <th>5</th>\n",
       "      <td>-0.018185</td>\n",
       "      <td>-0.097406</td>\n",
       "      <td>-0.018185</td>\n",
       "    </tr>\n",
       "    <tr>\n",
       "      <th>6</th>\n",
       "      <td>0.422438</td>\n",
       "      <td>0.166666</td>\n",
       "      <td>0.422438</td>\n",
       "    </tr>\n",
       "    <tr>\n",
       "      <th>7</th>\n",
       "      <td>-0.042346</td>\n",
       "      <td>-0.043780</td>\n",
       "      <td>-0.042346</td>\n",
       "    </tr>\n",
       "    <tr>\n",
       "      <th>8</th>\n",
       "      <td>0.029296</td>\n",
       "      <td>0.007565</td>\n",
       "      <td>0.029296</td>\n",
       "    </tr>\n",
       "    <tr>\n",
       "      <th>9</th>\n",
       "      <td>0.048154</td>\n",
       "      <td>0.040908</td>\n",
       "      <td>0.048154</td>\n",
       "    </tr>\n",
       "  </tbody>\n",
       "</table>\n",
       "</div>"
      ],
      "text/plain": [
       "   inputGrad  IntegratedGradients  deepLift\n",
       "0   1.108235            -0.670030  1.108236\n",
       "1   0.436778             0.488253  0.436778\n",
       "2  -0.196666             0.084237 -0.196666\n",
       "3  -0.060618            -0.003849 -0.060618\n",
       "4   0.122957             0.052001  0.122957\n",
       "5  -0.018185            -0.097406 -0.018185\n",
       "6   0.422438             0.166666  0.422438\n",
       "7  -0.042346            -0.043780 -0.042346\n",
       "8   0.029296             0.007565  0.029296\n",
       "9   0.048154             0.040908  0.048154"
      ]
     },
     "execution_count": 84,
     "metadata": {},
     "output_type": "execute_result"
    }
   ],
   "source": [
    "df"
   ]
  },
  {
   "cell_type": "code",
   "execution_count": null,
   "id": "be34f2b9",
   "metadata": {},
   "outputs": [],
   "source": []
  },
  {
   "cell_type": "markdown",
   "id": "f03ddba0",
   "metadata": {},
   "source": [
    "## IntegratedGradients"
   ]
  },
  {
   "cell_type": "code",
   "execution_count": 75,
   "id": "207acef3",
   "metadata": {},
   "outputs": [],
   "source": [
    "ig = IntegratedGradients(model)\n",
    "\n",
    "ig_attributions = ig.attribute(seq.unsqueeze(0), target=label)\n",
    "ig_attr = ig_attributions[0].to(torch.float32)"
   ]
  },
  {
   "cell_type": "code",
   "execution_count": 76,
   "id": "31c3962f",
   "metadata": {},
   "outputs": [],
   "source": [
    "ig_attr_weights = get_weights(ig_attr, anomaly_timeseries)"
   ]
  },
  {
   "cell_type": "code",
   "execution_count": 77,
   "id": "fdcd1565",
   "metadata": {},
   "outputs": [],
   "source": [
    "df[\"IntegratedGradients\"] = ig_attr_weights"
   ]
  },
  {
   "cell_type": "code",
   "execution_count": null,
   "id": "69b08c97",
   "metadata": {},
   "outputs": [],
   "source": []
  },
  {
   "cell_type": "markdown",
   "id": "bd7f6466",
   "metadata": {},
   "source": [
    "## DeepLift"
   ]
  },
  {
   "cell_type": "code",
   "execution_count": 79,
   "id": "3910b0d8",
   "metadata": {
    "scrolled": true
   },
   "outputs": [
    {
     "name": "stderr",
     "output_type": "stream",
     "text": [
      "/Users/ajayshewale/miniforge3/envs/explainable_env/lib/python3.10/site-packages/captum/_utils/gradient.py:57: UserWarning: Input Tensor 0 did not already require gradients, required_grads has been set automatically.\n",
      "  warnings.warn(\n",
      "/Users/ajayshewale/miniforge3/envs/explainable_env/lib/python3.10/site-packages/captum/attr/_core/deep_lift.py:304: UserWarning: Setting forward, backward hooks and attributes on non-linear\n",
      "               activations. The hooks and attributes will be removed\n",
      "            after the attribution is finished\n",
      "  warnings.warn(\n"
     ]
    }
   ],
   "source": [
    "deepLift = DeepLift(model)\n",
    "\n",
    "deepLift_attributions = deepLift.attribute(seq.unsqueeze(0), target=label)\n",
    "deepLift_attr = deepLift_attributions[0].to(torch.float32)"
   ]
  },
  {
   "cell_type": "code",
   "execution_count": 80,
   "id": "54c5e387",
   "metadata": {},
   "outputs": [],
   "source": [
    "deepLift_attr_attr_weights = get_weights(deepLift_attr, anomaly_timeseries)"
   ]
  },
  {
   "cell_type": "code",
   "execution_count": 81,
   "id": "3e971e44",
   "metadata": {},
   "outputs": [],
   "source": [
    "df[\"deepLift\"] = deepLift_attr_attr_weights"
   ]
  },
  {
   "cell_type": "code",
   "execution_count": null,
   "id": "f5ab5b11",
   "metadata": {},
   "outputs": [],
   "source": [
    "## Models to run\n",
    "# gradient, inputXgrad, ig, deeplift, ,oclusion, lime, kernelshap, gradientshap"
   ]
  },
  {
   "cell_type": "markdown",
   "id": "fd0b3d9c",
   "metadata": {},
   "source": [
    "## Lime"
   ]
  },
  {
   "cell_type": "code",
   "execution_count": 92,
   "id": "5c2d26fd",
   "metadata": {
    "scrolled": true
   },
   "outputs": [],
   "source": [
    "lime = Lime(model)\n",
    "\n",
    "lime_attributions = lime.attribute(seq.unsqueeze(0), target=label)\n",
    "lime_attr = lime_attributions[0].to(torch.float32)"
   ]
  },
  {
   "cell_type": "code",
   "execution_count": 93,
   "id": "d9baab04",
   "metadata": {},
   "outputs": [],
   "source": [
    "lime_attr_weights = get_weights(lime_attr, anomaly_timeseries)"
   ]
  },
  {
   "cell_type": "code",
   "execution_count": 94,
   "id": "3be8f033",
   "metadata": {},
   "outputs": [],
   "source": [
    "df[\"lime\"] = lime_attr_weights"
   ]
  },
  {
   "cell_type": "code",
   "execution_count": null,
   "id": "f2b367a1",
   "metadata": {},
   "outputs": [],
   "source": []
  },
  {
   "cell_type": "markdown",
   "id": "9a333e09",
   "metadata": {},
   "source": [
    "## KernelShap"
   ]
  },
  {
   "cell_type": "code",
   "execution_count": 86,
   "id": "720165f1",
   "metadata": {
    "scrolled": true
   },
   "outputs": [],
   "source": [
    "kernalshap = KernelShap(model)\n",
    "\n",
    "kernalshap_attributions = kernalshap.attribute(seq.unsqueeze(0), target=label)\n",
    "kernalshap_attr = kernalshap_attributions[0].to(torch.float32)"
   ]
  },
  {
   "cell_type": "code",
   "execution_count": 87,
   "id": "76981bb9",
   "metadata": {},
   "outputs": [],
   "source": [
    "kernalshap_attr_weights = get_weights(kernalshap_attr, anomaly_timeseries)"
   ]
  },
  {
   "cell_type": "code",
   "execution_count": 88,
   "id": "07533d72",
   "metadata": {},
   "outputs": [],
   "source": [
    "df[\"kernalshap\"] = kernalshap_attr_weights"
   ]
  },
  {
   "cell_type": "markdown",
   "id": "aed51b21",
   "metadata": {},
   "source": [
    "## gradientshap"
   ]
  },
  {
   "cell_type": "code",
   "execution_count": 102,
   "id": "fd79d11b",
   "metadata": {},
   "outputs": [],
   "source": [
    "# define the baselines for GradientShap\n",
    "baselines = torch.zeros_like(seq.unsqueeze(0))"
   ]
  },
  {
   "cell_type": "code",
   "execution_count": 103,
   "id": "34cf3eda",
   "metadata": {
    "scrolled": false
   },
   "outputs": [],
   "source": [
    "gradientshap = GradientShap(model)"
   ]
  },
  {
   "cell_type": "code",
   "execution_count": 104,
   "id": "3f75b33e",
   "metadata": {},
   "outputs": [],
   "source": [
    "gradientshap_attributions = gradientshap.attribute(seq.unsqueeze(0), baselines, target=label)\n",
    "gradientshap_attr = gradientshap_attributions[0].to(torch.float32)"
   ]
  },
  {
   "cell_type": "code",
   "execution_count": 105,
   "id": "4ed09f71",
   "metadata": {},
   "outputs": [],
   "source": [
    "gradientshap_attr_weights = get_weights(gradientshap_attr, anomaly_timeseries)"
   ]
  },
  {
   "cell_type": "code",
   "execution_count": 106,
   "id": "3aa27e17",
   "metadata": {},
   "outputs": [],
   "source": [
    "df[\"gradientshap\"] = gradientshap_attr_weights"
   ]
  },
  {
   "cell_type": "markdown",
   "id": "bcec928c",
   "metadata": {},
   "source": [
    "## Occulsion"
   ]
  },
  {
   "cell_type": "code",
   "execution_count": 116,
   "id": "3aa657cd",
   "metadata": {},
   "outputs": [],
   "source": [
    "occlusion = Occlusion(model)\n",
    "window_size = 5\n",
    "occlusion_attributions = occlusion.attribute(seq.unsqueeze(0),sliding_window_shapes=(window_size,1), target=label)\n",
    "occlusion_attr = occlusion_attributions[0].to(torch.float32)"
   ]
  },
  {
   "cell_type": "code",
   "execution_count": 117,
   "id": "39b5d269",
   "metadata": {},
   "outputs": [],
   "source": [
    "occlusion_attr_weights = get_weights(occlusion_attr, anomaly_timeseries)"
   ]
  },
  {
   "cell_type": "code",
   "execution_count": 118,
   "id": "1eff39b6",
   "metadata": {},
   "outputs": [],
   "source": [
    "df[\"occlusion\"] = occlusion_attr_weights"
   ]
  },
  {
   "cell_type": "markdown",
   "id": "9e505c85",
   "metadata": {},
   "source": [
    "### add event details column in our result df "
   ]
  },
  {
   "cell_type": "code",
   "execution_count": 123,
   "id": "55341e18",
   "metadata": {},
   "outputs": [],
   "source": [
    "# Add Event name\n",
    "event_name_col = [\"Receiving blk* src&dest:* \", \"PktResponder* for blk* terminating\", \"PktResponder* Exception\", \"Exception in receiveBlock for blk*\", \"writeBlock* received exception*\", \"PktResponder* for blk* Interrupted\", \"PktResponder* for blk* terminating\", \"Exception in receiveBlock for blk*\", \"writeBlock* received exception*\", \"PktResponder* for blk* terminating\"]"
   ]
  },
  {
   "cell_type": "code",
   "execution_count": 124,
   "id": "e9d2ac4f",
   "metadata": {},
   "outputs": [],
   "source": [
    "df[\"Event Details\"] = event_name_col"
   ]
  },
  {
   "cell_type": "code",
   "execution_count": 143,
   "id": "8091e74f",
   "metadata": {},
   "outputs": [],
   "source": [
    "df = df.reindex(columns=['Event Details','Gradient', 'inputGrad', 'IntegratedGradients', 'deepLift', 'lime', 'kernalshap', 'occlusion','gradientshap'])"
   ]
  },
  {
   "cell_type": "code",
   "execution_count": 146,
   "id": "0185ec31",
   "metadata": {},
   "outputs": [
    {
     "data": {
      "text/plain": [
       "Index(['Event Details', 'Gradient', 'inputGrad', 'IntegratedGradients',\n",
       "       'deepLift', 'lime', 'kernalshap', 'occlusion', 'gradientshap'],\n",
       "      dtype='object')"
      ]
     },
     "execution_count": 146,
     "metadata": {},
     "output_type": "execute_result"
    }
   ],
   "source": [
    "df.columns"
   ]
  },
  {
   "cell_type": "code",
   "execution_count": 15,
   "id": "7da733ee",
   "metadata": {},
   "outputs": [
    {
     "data": {
      "text/html": [
       "<div>\n",
       "<style scoped>\n",
       "    .dataframe tbody tr th:only-of-type {\n",
       "        vertical-align: middle;\n",
       "    }\n",
       "\n",
       "    .dataframe tbody tr th {\n",
       "        vertical-align: top;\n",
       "    }\n",
       "\n",
       "    .dataframe thead th {\n",
       "        text-align: right;\n",
       "    }\n",
       "</style>\n",
       "<table border=\"1\" class=\"dataframe\">\n",
       "  <thead>\n",
       "    <tr style=\"text-align: right;\">\n",
       "      <th></th>\n",
       "    </tr>\n",
       "  </thead>\n",
       "  <tbody>\n",
       "  </tbody>\n",
       "</table>\n",
       "</div>"
      ],
      "text/plain": [
       "Empty DataFrame\n",
       "Columns: []\n",
       "Index: []"
      ]
     },
     "execution_count": 15,
     "metadata": {},
     "output_type": "execute_result"
    }
   ],
   "source": [
    "df.head()"
   ]
  },
  {
   "cell_type": "code",
   "execution_count": 156,
   "id": "594ce22d",
   "metadata": {},
   "outputs": [],
   "source": [
    "# Removing gradientshap as we dont want it in our final result\n",
    "df = df.drop(columns=['gradientshap'])"
   ]
  },
  {
   "cell_type": "code",
   "execution_count": 157,
   "id": "cdca4ad9",
   "metadata": {},
   "outputs": [
    {
     "data": {
      "text/html": [
       "<div>\n",
       "<style scoped>\n",
       "    .dataframe tbody tr th:only-of-type {\n",
       "        vertical-align: middle;\n",
       "    }\n",
       "\n",
       "    .dataframe tbody tr th {\n",
       "        vertical-align: top;\n",
       "    }\n",
       "\n",
       "    .dataframe thead th {\n",
       "        text-align: right;\n",
       "    }\n",
       "</style>\n",
       "<table border=\"1\" class=\"dataframe\">\n",
       "  <thead>\n",
       "    <tr style=\"text-align: right;\">\n",
       "      <th></th>\n",
       "      <th>Event Details</th>\n",
       "      <th>Gradient</th>\n",
       "      <th>inputGrad</th>\n",
       "      <th>IntegratedGradients</th>\n",
       "      <th>deepLift</th>\n",
       "      <th>lime</th>\n",
       "      <th>kernalshap</th>\n",
       "      <th>occlusion</th>\n",
       "    </tr>\n",
       "  </thead>\n",
       "  <tbody>\n",
       "    <tr>\n",
       "      <th>0</th>\n",
       "      <td>Receiving blk* src&amp;dest:*</td>\n",
       "      <td>1.108235</td>\n",
       "      <td>1.108235</td>\n",
       "      <td>-0.670030</td>\n",
       "      <td>1.108236</td>\n",
       "      <td>-0.524080</td>\n",
       "      <td>-0.007913</td>\n",
       "      <td>-0.531507</td>\n",
       "    </tr>\n",
       "    <tr>\n",
       "      <th>1</th>\n",
       "      <td>PktResponder* for blk* terminating</td>\n",
       "      <td>0.436778</td>\n",
       "      <td>0.436778</td>\n",
       "      <td>0.488253</td>\n",
       "      <td>0.436778</td>\n",
       "      <td>0.149037</td>\n",
       "      <td>0.038478</td>\n",
       "      <td>0.546340</td>\n",
       "    </tr>\n",
       "    <tr>\n",
       "      <th>2</th>\n",
       "      <td>PktResponder* Exception</td>\n",
       "      <td>0.196666</td>\n",
       "      <td>-0.196666</td>\n",
       "      <td>0.084237</td>\n",
       "      <td>-0.196666</td>\n",
       "      <td>0.000000</td>\n",
       "      <td>0.010203</td>\n",
       "      <td>-0.118946</td>\n",
       "    </tr>\n",
       "    <tr>\n",
       "      <th>3</th>\n",
       "      <td>Exception in receiveBlock for blk*</td>\n",
       "      <td>0.060618</td>\n",
       "      <td>-0.060618</td>\n",
       "      <td>-0.003849</td>\n",
       "      <td>-0.060618</td>\n",
       "      <td>0.000000</td>\n",
       "      <td>0.007081</td>\n",
       "      <td>-0.078701</td>\n",
       "    </tr>\n",
       "    <tr>\n",
       "      <th>4</th>\n",
       "      <td>writeBlock* received exception*</td>\n",
       "      <td>0.122957</td>\n",
       "      <td>0.122957</td>\n",
       "      <td>0.052001</td>\n",
       "      <td>0.122957</td>\n",
       "      <td>-0.008380</td>\n",
       "      <td>0.003667</td>\n",
       "      <td>0.118297</td>\n",
       "    </tr>\n",
       "  </tbody>\n",
       "</table>\n",
       "</div>"
      ],
      "text/plain": [
       "                        Event Details  Gradient  inputGrad  \\\n",
       "0          Receiving blk* src&dest:*   1.108235   1.108235   \n",
       "1  PktResponder* for blk* terminating  0.436778   0.436778   \n",
       "2             PktResponder* Exception  0.196666  -0.196666   \n",
       "3  Exception in receiveBlock for blk*  0.060618  -0.060618   \n",
       "4     writeBlock* received exception*  0.122957   0.122957   \n",
       "\n",
       "   IntegratedGradients  deepLift      lime  kernalshap  occlusion  \n",
       "0            -0.670030  1.108236 -0.524080   -0.007913  -0.531507  \n",
       "1             0.488253  0.436778  0.149037    0.038478   0.546340  \n",
       "2             0.084237 -0.196666  0.000000    0.010203  -0.118946  \n",
       "3            -0.003849 -0.060618  0.000000    0.007081  -0.078701  \n",
       "4             0.052001  0.122957 -0.008380    0.003667   0.118297  "
      ]
     },
     "execution_count": 157,
     "metadata": {},
     "output_type": "execute_result"
    }
   ],
   "source": [
    "df.head()"
   ]
  },
  {
   "cell_type": "markdown",
   "id": "de80bc4c",
   "metadata": {},
   "source": [
    "## Save the results"
   ]
  },
  {
   "cell_type": "code",
   "execution_count": 158,
   "id": "e7ec9c0f",
   "metadata": {},
   "outputs": [],
   "source": [
    "# Save the final result csv\n",
    "df.to_csv(\"captum_results.csv\", index=False)"
   ]
  },
  {
   "cell_type": "markdown",
   "id": "850cb81e",
   "metadata": {},
   "source": [
    "### END"
   ]
  },
  {
   "cell_type": "code",
   "execution_count": null,
   "id": "434f9b50",
   "metadata": {},
   "outputs": [],
   "source": []
  },
  {
   "cell_type": "code",
   "execution_count": null,
   "id": "43a77c38",
   "metadata": {},
   "outputs": [],
   "source": []
  },
  {
   "cell_type": "code",
   "execution_count": 46,
   "id": "e8c085c7",
   "metadata": {},
   "outputs": [],
   "source": [
    "## Models to run\n",
    "# gradient, inputXgrad, ig, deeplift, ,oclusion, lime, kernelshap, gradientshap"
   ]
  },
  {
   "cell_type": "code",
   "execution_count": 45,
   "id": "d1121bbc",
   "metadata": {},
   "outputs": [],
   "source": [
    "# \"\"\"Step 3: Create a DeepAID Interpreter\"\"\"\n",
    "\n",
    "# from timeseries_onehot import UniTimeseriesAID\n",
    "# feature_desc = np.load('deepaid/log_key_meanning.npy') # feature_description\n",
    "# my_interpreter = UniTimeseriesAID(model, feature_desc=feature_desc, class_num=28)\n",
    "\n",
    "# \"\"\"Step 4: Interpret your anomaly and show the result\"\"\"\n",
    "# interpretation = my_interpreter(attr, label)\n",
    "# my_interpreter.show_table(anomaly_timeseries, interpretation)"
   ]
  },
  {
   "cell_type": "code",
   "execution_count": 18,
   "id": "0eea09f5",
   "metadata": {},
   "outputs": [],
   "source": [
    "# input = torch.tensor(abnormal_data, dtype=torch.float32, requires_grad=True)\n",
    "\n",
    "# attribution_scores, _ = ig.attribute(input, target=9, return_convergence_delta=True)\n",
    "\n",
    "# \"\"\" Deeplog tools with Integrated Gradients\"\"\"\n",
    "# def deeplogtools_seqformat_IG(model, abnormal_data, num_candidates, index=0):\n",
    "#     import keras.utils.np_utils as np_utils\n",
    "#     from captum.attr import IntegratedGradients\n",
    "\n",
    "#     device = torch.device(\"cuda\" if torch.cuda.is_available() else \"cpu\")\n",
    "\n",
    "#     X = abnormal_data.copy()\n",
    "#     y, X = X[:,-1], np_utils.to_categorical(X[:,:-1])\n",
    "#     Output = model(torch.from_numpy(X).type(torch.float).to(device))\n",
    "\n",
    "#     # Calculate Integrated Gradients\n",
    "#     ig = IntegratedGradients(model)\n",
    "\n",
    "#     TP_idx = []\n",
    "#     for i in range(len(Output)):\n",
    "#         output = Output[i]\n",
    "#         label = y[i]\n",
    "#         predicted = torch.argsort(output)[-num_candidates:]\n",
    "#         if label not in predicted:\n",
    "#             TP_idx.append(i)\n",
    "#     seq_feat = np_utils.to_categorical(abnormal_data[TP_idx])\n",
    "#     feat = seq_feat[index]\n",
    "#     seq = torch.from_numpy(feat[:-1,:]).to(device)\n",
    "#     label = torch.tensor(np.argmax(feat[-1])).unsqueeze(0).to(device)\n",
    "\n",
    "#     # Calculate Integrated Gradients for the input sequence\n",
    "#     seq_ig = ig.attribute(seq, target=label)\n",
    "    \n",
    "#     return seq_ig, label, abnormal_data[TP_idx][index]\n",
    "\n",
    "# deeplogtools_seqformat_IG(model, abnormal_data, 10)"
   ]
  },
  {
   "cell_type": "code",
   "execution_count": null,
   "id": "9beac9b6",
   "metadata": {},
   "outputs": [],
   "source": []
  }
 ],
 "metadata": {
  "kernelspec": {
   "display_name": "Python 3 (ipykernel)",
   "language": "python",
   "name": "python3"
  },
  "language_info": {
   "codemirror_mode": {
    "name": "ipython",
    "version": 3
   },
   "file_extension": ".py",
   "mimetype": "text/x-python",
   "name": "python",
   "nbconvert_exporter": "python",
   "pygments_lexer": "ipython3",
   "version": "3.10.9"
  }
 },
 "nbformat": 4,
 "nbformat_minor": 5
}
