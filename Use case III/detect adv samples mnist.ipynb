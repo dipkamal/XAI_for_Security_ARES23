{
 "cells": [
  {
   "cell_type": "markdown",
   "id": "ccaedfdd",
   "metadata": {},
   "source": [
    "# Use-case-III: Adversarial Image Detection\n",
    "\n",
    "Feature attribution for an adversarial sample differs from its benign counterpart because the adversarial perturbation \\textit{flips} the model prediction, causing the explanation method to attribute importance to different features. The feature attribution for benign and adversarial images differs. Interestingly, this difference in feature attribution can be measured using simple statistics of dispersion.\n",
    "\n",
    "In this notebook, we demonstrate the application of explanation methods in detecting adversarial samples for MNIST dataset. "
   ]
  },
  {
   "cell_type": "markdown",
   "id": "7871a1f1",
   "metadata": {},
   "source": [
    "We use [quantus](https://quantus.readthedocs.io/en/latest/) for computing feature attribution."
   ]
  },
  {
   "cell_type": "markdown",
   "id": "a871e177",
   "metadata": {},
   "source": [
    "You can download the trained models from [this](https://drive.google.com/drive/folders/1_Az6w5NMkWGyiXpmf0PNJqJdohXMbaiA?usp=sharing) google drive folder. "
   ]
  },
  {
   "cell_type": "code",
   "execution_count": 107,
   "id": "b43ff717",
   "metadata": {},
   "outputs": [],
   "source": [
    "import numpy as np\n",
    "import torch\n",
    "import torch.nn as nn\n",
    "import torch.nn.functional as F\n",
    "import torchvision\n",
    "from torchvision.datasets import MNIST as MNISTDataset\n",
    "import matplotlib\n",
    "import matplotlib.pyplot as plt\n",
    "from cleverhans.torch.attacks.fast_gradient_method import fast_gradient_method\n",
    "from cleverhans.torch.attacks.projected_gradient_descent import (\n",
    "    projected_gradient_descent,\n",
    ")\n",
    "import gc\n",
    "from captum.attr import *\n",
    "import quantus"
   ]
  },
  {
   "cell_type": "code",
   "execution_count": 2,
   "id": "1eb34ece",
   "metadata": {},
   "outputs": [],
   "source": [
    "import warnings\n",
    "warnings.filterwarnings('ignore')"
   ]
  },
  {
   "cell_type": "code",
   "execution_count": 3,
   "id": "91172088",
   "metadata": {},
   "outputs": [],
   "source": [
    "transformer = torchvision.transforms.Compose([torchvision.transforms.ToTensor()])\n",
    "test_set = torchvision.datasets.MNIST(root='./sample_data', train=False, transform=transformer, download=True)\n",
    "test_loader = torch.utils.data.DataLoader(test_set, batch_size=50, pin_memory=True)"
   ]
  },
  {
   "cell_type": "markdown",
   "id": "85271c11",
   "metadata": {},
   "source": [
    "# Load model"
   ]
  },
  {
   "cell_type": "code",
   "execution_count": 4,
   "id": "f7762e5c",
   "metadata": {},
   "outputs": [],
   "source": [
    "#for natural and adversarial LeNet Model \n",
    "class LeNet_normal(torch.nn.Module):\n",
    "    \"\"\"Network architecture from: https://github.com/ChawDoe/LeNet5-MNIST-PyTorch.\"\"\"\n",
    "    def __init__(self):\n",
    "        super().__init__()\n",
    "        self.conv_1 = torch.nn.Conv2d(1, 6, 5)\n",
    "        self.pool_1 = torch.nn.MaxPool2d(2, 2)\n",
    "        self.relu_1 = torch.nn.ReLU()\n",
    "        self.conv_2 = torch.nn.Conv2d(6, 16, 5)\n",
    "        self.pool_2 = torch.nn.MaxPool2d(2, 2)\n",
    "        self.relu_2 = torch.nn.ReLU()\n",
    "        self.fc_1 = torch.nn.Linear(256, 120)\n",
    "        self.relu_3 = torch.nn.ReLU()\n",
    "        self.fc_2 = torch.nn.Linear(120, 84)\n",
    "        self.relu_4 = torch.nn.ReLU()\n",
    "        self.fc_3 = torch.nn.Linear(84, 10)\n",
    "\n",
    "    def forward(self, x):\n",
    "        x = self.pool_1(self.relu_1(self.conv_1(x)))\n",
    "        x = self.pool_2(self.relu_2(self.conv_2(x)))\n",
    "        x = x.view(x.shape[0], -1)\n",
    "        x = self.relu_3(self.fc_1(x))\n",
    "        x = self.relu_4(self.fc_2(x))\n",
    "        x = self.fc_3(x)\n",
    "        return x"
   ]
  },
  {
   "cell_type": "code",
   "execution_count": 5,
   "id": "5d8af10c",
   "metadata": {},
   "outputs": [],
   "source": [
    "device = 'cuda' if torch.cuda.is_available() else 'cpu'"
   ]
  },
  {
   "cell_type": "code",
   "execution_count": 6,
   "id": "c7fbe207",
   "metadata": {
    "scrolled": true
   },
   "outputs": [
    {
     "data": {
      "text/plain": [
       "LeNet_normal(\n",
       "  (conv_1): Conv2d(1, 6, kernel_size=(5, 5), stride=(1, 1))\n",
       "  (pool_1): MaxPool2d(kernel_size=2, stride=2, padding=0, dilation=1, ceil_mode=False)\n",
       "  (relu_1): ReLU()\n",
       "  (conv_2): Conv2d(6, 16, kernel_size=(5, 5), stride=(1, 1))\n",
       "  (pool_2): MaxPool2d(kernel_size=2, stride=2, padding=0, dilation=1, ceil_mode=False)\n",
       "  (relu_2): ReLU()\n",
       "  (fc_1): Linear(in_features=256, out_features=120, bias=True)\n",
       "  (relu_3): ReLU()\n",
       "  (fc_2): Linear(in_features=120, out_features=84, bias=True)\n",
       "  (relu_4): ReLU()\n",
       "  (fc_3): Linear(in_features=84, out_features=10, bias=True)\n",
       ")"
      ]
     },
     "execution_count": 6,
     "metadata": {},
     "output_type": "execute_result"
    }
   ],
   "source": [
    "normal_model = LeNet_normal()\n",
    "normal_model.to(device)\n",
    "normal_model.load_state_dict(torch.load('mnist models/state_dict.pth'))\n",
    "normal_model.eval()"
   ]
  },
  {
   "cell_type": "markdown",
   "id": "34f93f1b",
   "metadata": {},
   "source": [
    "# Generate adversarial samples using PGD attack"
   ]
  },
  {
   "cell_type": "code",
   "execution_count": 62,
   "id": "285498c9",
   "metadata": {},
   "outputs": [],
   "source": [
    "def make_attack(x_batch, y_batch, eps=0.3): \n",
    "    images_pgd = projected_gradient_descent(normal_model, x_batch, eps, 0.01, 40, np.inf)\n",
    "    _, y_pred_pgd = normal_model(images_pgd).max(1)\n",
    "    index = (y_pred_pgd != y_batch)\n",
    "    pgd_images = images_pgd[index]\n",
    "    y_pred_pgd = y_pred_pgd[index]\n",
    "    return pgd_images, y_pred_pgd"
   ]
  },
  {
   "cell_type": "markdown",
   "id": "3b7a7bd2",
   "metadata": {},
   "source": [
    "# See distribution for a test batch"
   ]
  },
  {
   "cell_type": "code",
   "execution_count": 10,
   "id": "b9282d99",
   "metadata": {},
   "outputs": [],
   "source": [
    "eps = 0.3\n",
    "# Load a batch of inputs and outputs to use for evaluation.\n",
    "x_batch, y_batch = next(iter(test_loader))\n",
    "x_batch, y_batch = x_batch.to(device), y_batch.to(device)\n",
    "\n",
    "images, labels = x_batch.to(device), y_batch.to(device)\n",
    "images_pgd = projected_gradient_descent(normal_model, images, eps, 0.01, 40, np.inf)\n",
    "_, y_pred_pgd = normal_model(images_pgd).max(1)"
   ]
  },
  {
   "cell_type": "markdown",
   "id": "7c3a44fb",
   "metadata": {},
   "source": [
    "# Generate explanations for normal and adv images using gradient and integrated gradient"
   ]
  },
  {
   "cell_type": "code",
   "execution_count": 11,
   "id": "3175c3d6",
   "metadata": {},
   "outputs": [],
   "source": [
    "x_batch, y_batch = x_batch.to(device), y_batch.to(device)\n",
    "\n",
    "a_batch_intgrad = quantus.normalise_func.normalise_by_negative(IntegratedGradients(normal_model).attribute(inputs=x_batch, target=y_batch, baselines=torch.zeros_like(x_batch)).sum(axis=1).cpu().numpy())\n",
    "a_batch_benign = quantus.normalise_func.normalise_by_negative(Saliency(normal_model).attribute(inputs=x_batch, target=y_batch, abs=True).sum(axis=1).cpu().numpy())"
   ]
  },
  {
   "cell_type": "code",
   "execution_count": 12,
   "id": "3e6aa8b2",
   "metadata": {},
   "outputs": [],
   "source": [
    "images_pgd, y_pred_pgd = images_pgd.to(device), y_pred_pgd.to(device)"
   ]
  },
  {
   "cell_type": "code",
   "execution_count": 13,
   "id": "d6c95b77",
   "metadata": {},
   "outputs": [],
   "source": [
    "a_batch_adv_samples = quantus.normalise_func.normalise_by_negative(Saliency(normal_model).attribute(inputs=images_pgd, target=y_pred_pgd).sum(axis=1).cpu().numpy())\n",
    "adv_intgrad = quantus.normalise_func.normalise_by_negative(IntegratedGradients(normal_model).attribute(inputs=images_pgd, target=y_pred_pgd, baselines=torch.zeros_like(images_pgd)).sum(axis=1).detach().cpu().numpy())"
   ]
  },
  {
   "cell_type": "code",
   "execution_count": 14,
   "id": "2ffc43a7",
   "metadata": {},
   "outputs": [],
   "source": [
    "x_batch, y_batch = x_batch.cpu().numpy(), y_batch.cpu().numpy()"
   ]
  },
  {
   "cell_type": "code",
   "execution_count": 215,
   "id": "2fa5ae00",
   "metadata": {},
   "outputs": [],
   "source": [
    "#images_pgd, y_pred_pgd = images_pgd.detach().cpu().numpy(), y_pred_pgd.detach().cpu().numpy()"
   ]
  },
  {
   "cell_type": "code",
   "execution_count": 16,
   "id": "5192c03f",
   "metadata": {},
   "outputs": [
    {
     "data": {
      "image/png": "[encoded data removed]",
      "text/plain": [
       "<Figure size 500x600 with 6 Axes>"
      ]
     },
     "metadata": {},
     "output_type": "display_data"
    }
   ],
   "source": [
    "# Plot explanations of normal images!\n",
    "nr_images = 2\n",
    "fig, axes = plt.subplots(nrows=nr_images, ncols=3, figsize=(nr_images*2.5, int(nr_images*3)))\n",
    "images_pgd = images_pgd.cpu()\n",
    "y_pred_pgd = y_pred_pgd.cpu()\n",
    "#plot normal\n",
    "axes[0, 0].imshow((np.reshape(x_batch[1], (28, 28)) * 255).astype(np.uint8), vmin=0.0, vmax=1.0, cmap=\"gray\")\n",
    "axes[0, 0].title.set_text(f\"Normal digit {y_batch[1].item()}\")\n",
    "axes[0, 0].axis(\"off\")\n",
    "axes[0, 1].imshow(a_batch_benign[1], cmap=\"seismic\")\n",
    "axes[0, 1].title.set_text(f\"Saliency\")\n",
    "axes[0, 1].axis(\"off\")  \n",
    "axes[0, 2].imshow(a_batch_intgrad[1], cmap=\"seismic\")\n",
    "axes[0, 2].title.set_text(f\"Integrated Gradients\")\n",
    "axes[0, 2].axis(\"off\")\n",
    "plt.tight_layout()\n",
    "\n",
    "#plot adv\n",
    "axes[1, 0].imshow(np.transpose((images_pgd[1].detach().numpy()),(1,2,0)), cmap=\"gray\")\n",
    "axes[1, 0].title.set_text(f\"Adv digit {y_pred_pgd[1].item()}\")\n",
    "axes[1, 0].axis(\"off\")\n",
    "axes[1, 1].imshow(a_batch_adv_samples[1], cmap=\"seismic\")\n",
    "axes[1, 1].title.set_text(f\"Saliency\")\n",
    "axes[1, 1].axis(\"off\")  \n",
    "axes[1, 2].imshow(adv_intgrad [1], cmap=\"seismic\")\n",
    "axes[1, 2].title.set_text(f\"Integrated Gradients\")\n",
    "axes[1, 2].axis(\"off\")\n",
    "plt.tight_layout()\n",
    "\n",
    "plt.savefig(\"MNISTAdversarialBenignImageExplanation.pdf\", format=\"pdf\", bbox_inches=\"tight\")\n",
    "plt.show()"
   ]
  },
  {
   "cell_type": "markdown",
   "id": "c67219ac",
   "metadata": {},
   "source": [
    "# Use standard statistical measures for adversarial sample detection\n",
    "\n",
    "- Mean absolute deviation: It is average deviation from mean.\n",
    "- Median Absolute Deviation: It is median deviation from median.\n",
    "- Interquartile range: Interquartile range is defined as the difference between the 25th and 75th percentile.  Hence the interquartile range describes the middle 50% of observations. It is not affected by extreme values.\n"
   ]
  },
  {
   "cell_type": "code",
   "execution_count": 63,
   "id": "e64581d6",
   "metadata": {},
   "outputs": [],
   "source": [
    "def mean_abs_dev(attr): \n",
    "    scores = []\n",
    "    for i in range(len(attr)):\n",
    "        a = attr[i].flatten()\n",
    "        avg = np.mean(a)\n",
    "        deviation = a - avg \n",
    "        absolute_deviation = np.abs(deviation)\n",
    "        result = np.mean(absolute_deviation)\n",
    "        scores.append(result)\n",
    "    return scores    "
   ]
  },
  {
   "cell_type": "code",
   "execution_count": 64,
   "id": "a6f24362",
   "metadata": {},
   "outputs": [],
   "source": [
    "def median_abs_dev(attr): \n",
    "    scores = []\n",
    "    for i in range(len(attr)):\n",
    "        a = attr[i].flatten()\n",
    "        med = np.median(a)\n",
    "        deviation = a - med \n",
    "        abs_deviation = np.abs(deviation)\n",
    "        result = np.median(abs_deviation)\n",
    "        scores.append(result)\n",
    "    return scores "
   ]
  },
  {
   "cell_type": "code",
   "execution_count": 65,
   "id": "72b94ad0",
   "metadata": {},
   "outputs": [],
   "source": [
    "def iqr(attr):\n",
    "    #inter-quartile range\n",
    "    scores = []\n",
    "    for i in range(len(attr)):\n",
    "        a = attr[i].flatten()\n",
    "        score_75 = np.percentile(a, 75)\n",
    "        score_25 = np.percentile(a, 25)\n",
    "        score_qt = score_75 - score_25\n",
    "        scores.append(score_qt)\n",
    "    return scores\n",
    "    "
   ]
  },
  {
   "cell_type": "markdown",
   "id": "d5bfc443",
   "metadata": {},
   "source": [
    "# Relative measure of dispersion \n",
    "\n",
    "-  A relative measure of dispersion is used to compare the distribution of two or more datasets. A given series of data is accurately exhibited by the absolute measures of dispersion. But one of the major demerits of this is that if there is a need to compare dispersion for a series of different units then it cannot be used. The above-mentioned comparison can be done with relative dispersion.  Another name of relative measures of dispersion is coefficients of dispersion."
   ]
  },
  {
   "cell_type": "code",
   "execution_count": 66,
   "id": "9a87f35a",
   "metadata": {},
   "outputs": [],
   "source": [
    "#relative measure of dispersion\n",
    "def coef_var(attr):\n",
    "    scores = []\n",
    "    for i in range(len(attr)):\n",
    "        a = attr[i].flatten()\n",
    "        m = np.mean(a)\n",
    "        st = np.std(attr[i])\n",
    "        sc = m/st\n",
    "        scores.append(sc)\n",
    "    return scores"
   ]
  },
  {
   "cell_type": "code",
   "execution_count": 67,
   "id": "99365f78",
   "metadata": {},
   "outputs": [],
   "source": [
    "#relative measure of dispersion\n",
    "\n",
    "## Coefficient of quartile dev\n",
    "\n",
    "def coef_iqr(attr):\n",
    "    scores = []\n",
    "    for i in range(len(attr)):\n",
    "        a = attr[i].flatten()\n",
    "        score_75 = np.percentile(a, 75)\n",
    "        score_25 = np.percentile(a, 25)\n",
    "        score_qt = (score_75 - score_25)/(score_75 + score_25+0.000001)\n",
    "        scores.append(score_qt)\n",
    "    return scores\n",
    "    "
   ]
  },
  {
   "cell_type": "code",
   "execution_count": 80,
   "id": "9ef65c8a",
   "metadata": {},
   "outputs": [
    {
     "name": "stdout",
     "output_type": "stream",
     "text": [
      "Step  0\n",
      "Step  20\n",
      "Step  40\n",
      "Step  60\n",
      "Step  80\n",
      "Step  100\n",
      "Step  120\n",
      "Step  140\n",
      "Step  160\n",
      "Step  180\n"
     ]
    }
   ],
   "source": [
    "\n",
    "#store statistical measures for mnist samples\n",
    "\n",
    "meanAbs_adv =[]\n",
    "meanAbs_ben = []\n",
    "\n",
    "medianAbs_adv = []\n",
    "medianAbs_ben = []\n",
    "\n",
    "iqr_adv = []\n",
    "iqr_ben = []\n",
    "\n",
    "coef_var_adv =[]\n",
    "coef_var_ben=[]\n",
    "\n",
    "coef_iqr_adv = []\n",
    "coef_iqr_ben = []\n",
    "\n",
    "for step, (x_batch, y_batch) in enumerate(test_loader):\n",
    "    if step % 20 ==0:\n",
    "        print('Step ', step)\n",
    "    x_batch, y_batch = x_batch.to(device), y_batch.to(device)\n",
    "    \n",
    "    images_pgd, y_pred_pgd=make_attack(x_batch, y_batch, eps=0.3)\n",
    "    \n",
    "   # images_pgd = projected_gradient_descent(normal_model, x_batch, eps, 0.01, 40, np.inf)\n",
    "    #_, y_pred_pgd = normal_model(images_pgd).max(1)\n",
    "    \n",
    "    a_batch_benign = quantus.normalise_func.normalise_by_negative(Saliency(normal_model).attribute(inputs=x_batch, target=y_batch).sum(axis=1).cpu().numpy())\n",
    "    #a_batch_benign = quantus.normalise_func.normalise_by_negative(IntegratedGradients(normal_model).attribute(inputs=x_batch, target=y_batch, baselines=torch.zeros_like(x_batch)).sum(axis=1).cpu().numpy())\n",
    "\n",
    "    images_pgd, y_pred_pgd = images_pgd.to(device), y_pred_pgd.to(device)\n",
    "    a_batch_adv_samples = quantus.normalise_func.normalise_by_negative(Saliency(normal_model).attribute(inputs=images_pgd, target=y_pred_pgd).sum(axis=1).cpu().numpy())\n",
    "    #a_batch_adv_samples = quantus.normalise_func.normalise_by_negative(IntegratedGradients(normal_model).attribute(inputs=images_pgd, target=y_pred_pgd, baselines=torch.zeros_like(images_pgd)).sum(axis=1).detach().cpu().numpy())\n",
    "    \n",
    "   \n",
    "    meanAbs_adv += mean_abs_dev(a_batch_adv_samples)\n",
    "    meanAbs_ben += mean_abs_dev(a_batch_benign)\n",
    "    \n",
    "    medianAbs_adv += median_abs_dev(a_batch_adv_samples)\n",
    "    medianAbs_ben += median_abs_dev(a_batch_benign)\n",
    "    \n",
    "    \n",
    "    iqr_adv += iqr(a_batch_adv_samples)\n",
    "    iqr_ben += iqr(a_batch_benign)\n",
    "    \n",
    "    coef_var_adv += coef_var(a_batch_adv_samples)\n",
    "    coef_var_ben += coef_var(a_batch_benign)\n",
    "    \n",
    "    coef_iqr_adv += coef_iqr(a_batch_adv_samples)\n",
    "    coef_iqr_ben += coef_iqr(a_batch_benign)\n",
    "    \n",
    "    #if step == 100:\n",
    "     #   break \n",
    "    \n",
    "    \n",
    "    "
   ]
  },
  {
   "cell_type": "markdown",
   "id": "c75cbe87",
   "metadata": {},
   "source": [
    "# Plots"
   ]
  },
  {
   "cell_type": "code",
   "execution_count": 82,
   "id": "8b6c0a88",
   "metadata": {},
   "outputs": [
    {
     "data": {
      "image/png": "[encoded data removed]",
      "text/plain": [
       "<Figure size 640x480 with 1 Axes>"
      ]
     },
     "metadata": {},
     "output_type": "display_data"
    }
   ],
   "source": [
    "import matplotlib.pyplot as plt \n",
    "plt.hist(medianAbs_adv, label=\"median abs dev adversarial\") \n",
    "plt.hist(medianAbs_ben, label=\"median abs dev benign\")\n",
    "plt.xlabel(\"Median Absolute Deviation\")\n",
    "plt.ylabel(\"Frequency\")\n",
    "plt.legend()\n",
    "#plt.savefig(\"statPlots/MNISTMedianAbsDev.pdf\", format=\"pdf\", bbox_inches=\"tight\")\n",
    "plt.show()"
   ]
  },
  {
   "cell_type": "code",
   "execution_count": 83,
   "id": "be1b4fa8",
   "metadata": {},
   "outputs": [
    {
     "data": {
      "image/png": "[encoded data removed]",
      "text/plain": [
       "<Figure size 640x480 with 1 Axes>"
      ]
     },
     "metadata": {},
     "output_type": "display_data"
    }
   ],
   "source": [
    "import matplotlib.pyplot as plt \n",
    "plt.hist(coef_var_adv, label=\"coef_var_adv \") \n",
    "plt.hist(coef_var_ben, label=\"coef_var_ben \")\n",
    "plt.legend()\n",
    "plt.show()"
   ]
  },
  {
   "cell_type": "code",
   "execution_count": 84,
   "id": "9d90525d",
   "metadata": {},
   "outputs": [],
   "source": [
    "coef_iqr_ben_ = [x for x in coef_iqr_ben if str(x) != 'nan']\n",
    "coef_iqr_adv_ =  [x for x in coef_iqr_adv if str(x) != 'nan']"
   ]
  },
  {
   "cell_type": "code",
   "execution_count": 87,
   "id": "4378d2b4",
   "metadata": {
    "scrolled": false
   },
   "outputs": [
    {
     "data": {
      "image/png": "[encoded data removed]",
      "text/plain": [
       "<Figure size 640x480 with 1 Axes>"
      ]
     },
     "metadata": {},
     "output_type": "display_data"
    }
   ],
   "source": [
    "import matplotlib.pyplot as plt \n",
    "plt.hist(coef_iqr_adv_, label=\"coef_iqr_adv \") \n",
    "plt.hist(coef_iqr_ben_, label=\"coef_iqr_ben \")\n",
    "plt.xlabel(\"Coefficient of IQR\")\n",
    "plt.ylabel(\"Frequency\")\n",
    "plt.legend()\n",
    "#plt.savefig(\"statPlots/MNISTCoefIQRPlot.pdf\", format=\"pdf\", bbox_inches=\"tight\")\n",
    "plt.show()"
   ]
  },
  {
   "cell_type": "markdown",
   "id": "9580fb51",
   "metadata": {},
   "source": [
    "# define a thresholding method to detect adversarial sample"
   ]
  },
  {
   "cell_type": "code",
   "execution_count": 99,
   "id": "accf2aae",
   "metadata": {},
   "outputs": [],
   "source": [
    "def compute_precision(TP, FP): \n",
    "    return TP/(TP+FP)\n",
    "\n",
    "def compute_recall(TP, FN):\n",
    "    return TP/(TP+FN)"
   ]
  },
  {
   "cell_type": "code",
   "execution_count": 100,
   "id": "9c015aa2",
   "metadata": {},
   "outputs": [
    {
     "name": "stdout",
     "output_type": "stream",
     "text": [
      "8851 8176 0.9237374307987798\n"
     ]
    }
   ],
   "source": [
    "# use Coefficent of IQR to detect adversarial sample \n",
    "\n",
    "detect = 0\n",
    "for value in coef_iqr_adv_:\n",
    "    if value <=0.925:\n",
    "        detect=detect+1\n",
    "print(len(coef_iqr_adv_), detect, detect/len(coef_iqr_adv_))\n"
   ]
  },
  {
   "cell_type": "code",
   "execution_count": 101,
   "id": "2ae181e7",
   "metadata": {},
   "outputs": [
    {
     "name": "stdout",
     "output_type": "stream",
     "text": [
      "10000 9949 0.9949\n"
     ]
    }
   ],
   "source": [
    "#benign sample\n",
    "\n",
    "i = 0\n",
    "for value in coef_iqr_ben_:\n",
    "    if value >=0.925:\n",
    "        i=i+1\n",
    "print(len(coef_iqr_ben_), i, i/len(coef_iqr_ben_))\n"
   ]
  },
  {
   "cell_type": "code",
   "execution_count": 102,
   "id": "8fef5e0d",
   "metadata": {},
   "outputs": [
    {
     "name": "stdout",
     "output_type": "stream",
     "text": [
      "precision is: 0.9938008994773307\n",
      "recall is: 0.9364646084337349\n"
     ]
    }
   ],
   "source": [
    "print(\"precision is:\", compute_precision(8176, 10000-9949))\n",
    "print(\"recall is:\", compute_recall(9949, 8851-8176))"
   ]
  },
  {
   "cell_type": "code",
   "execution_count": 105,
   "id": "4a0ba881",
   "metadata": {},
   "outputs": [
    {
     "name": "stdout",
     "output_type": "stream",
     "text": [
      "8851 7100 0.8021692464128347\n",
      "10000 8174 0.8174\n"
     ]
    }
   ],
   "source": [
    "#use median absolute deviation \n",
    "detect = 0\n",
    "for value in medianAbs_adv:\n",
    "    if value >=0.011:\n",
    "        detect=detect+1\n",
    "print(len(medianAbs_adv), detect, detect/len(medianAbs_adv))\n",
    "\n",
    "\n",
    "#for benign\n",
    "i = 0\n",
    "for value in medianAbs_ben:\n",
    "    if value <= 0.011:\n",
    "        i=i+1\n",
    "print(len(medianAbs_ben), i, i/len(medianAbs_ben))"
   ]
  },
  {
   "cell_type": "code",
   "execution_count": 106,
   "id": "51a73e29",
   "metadata": {},
   "outputs": [
    {
     "name": "stdout",
     "output_type": "stream",
     "text": [
      "precision is: 0.8289781773906528\n",
      "recall is: 0.8235768261964735\n"
     ]
    }
   ],
   "source": [
    "print(\"precision is:\", compute_precision(8851, 10000-8174))\n",
    "print(\"recall is:\", compute_recall(8174, 8851-7100))"
   ]
  },
  {
   "cell_type": "code",
   "execution_count": null,
   "id": "5b6d2cb3",
   "metadata": {},
   "outputs": [],
   "source": []
  }
 ],
 "metadata": {
  "kernelspec": {
   "display_name": "denoise_project",
   "language": "python",
   "name": "denoise_project"
  },
  "language_info": {
   "codemirror_mode": {
    "name": "ipython",
    "version": 3
   },
   "file_extension": ".py",
   "mimetype": "text/x-python",
   "name": "python",
   "nbconvert_exporter": "python",
   "pygments_lexer": "ipython3",
   "version": "3.8.10"
  }
 },
 "nbformat": 4,
 "nbformat_minor": 5
}
