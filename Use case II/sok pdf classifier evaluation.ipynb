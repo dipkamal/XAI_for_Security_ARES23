{
 "cells": [
  {
   "cell_type": "markdown",
   "id": "8fbafc48",
   "metadata": {},
   "source": [
    "# Evaluation of explanation methods in PDF malware classification"
   ]
  },
  {
   "cell_type": "markdown",
   "id": "6a96bc2f",
   "metadata": {},
   "source": [
    "### PDF-data and trained model is shared in the ./data folder. \n",
    "#### We utilize [captum](https://captum.ai/) for computing explanations using LIME and [quantus](https://quantus.readthedocs.io/en/latest/) to quantitatively evaluate the explanations. "
   ]
  },
  {
   "cell_type": "code",
   "execution_count": 2,
   "id": "7f00c830",
   "metadata": {},
   "outputs": [],
   "source": [
    "import warnings\n",
    "warnings.filterwarnings('ignore')"
   ]
  },
  {
   "cell_type": "code",
   "execution_count": 23,
   "id": "016a7a08",
   "metadata": {},
   "outputs": [],
   "source": [
    "import quantus"
   ]
  },
  {
   "cell_type": "code",
   "execution_count": 3,
   "id": "a33cfe07",
   "metadata": {},
   "outputs": [
    {
     "name": "stderr",
     "output_type": "stream",
     "text": [
      "2023-03-14 12:46:56.407283: I tensorflow/core/platform/cpu_feature_guard.cc:193] This TensorFlow binary is optimized with oneAPI Deep Neural Network Library (oneDNN) to use the following CPU instructions in performance-critical operations:  AVX2 FMA\n",
      "To enable them in other operations, rebuild TensorFlow with the appropriate compiler flags.\n",
      "2023-03-14 12:46:57.097164: W tensorflow/compiler/xla/stream_executor/platform/default/dso_loader.cc:64] Could not load dynamic library 'libnvinfer.so.7'; dlerror: libnvinfer.so.7: cannot open shared object file: No such file or directory\n",
      "2023-03-14 12:46:57.097247: W tensorflow/compiler/xla/stream_executor/platform/default/dso_loader.cc:64] Could not load dynamic library 'libnvinfer_plugin.so.7'; dlerror: libnvinfer_plugin.so.7: cannot open shared object file: No such file or directory\n",
      "2023-03-14 12:46:57.097254: W tensorflow/compiler/tf2tensorrt/utils/py_utils.cc:38] TF-TRT Warning: Cannot dlopen some TensorRT libraries. If you would like to use Nvidia GPU with TensorRT, please make sure the missing libraries mentioned above are installed properly.\n"
     ]
    }
   ],
   "source": [
    "import torch\n",
    "import torch.nn as nn\n",
    "import torch.nn.functional as F\n",
    "from torch.autograd import Variable\n",
    "import torch.utils.data as utils\n",
    "import torch.utils.data as td\n",
    "torch.manual_seed(1234)\n",
    "import pandas as pd\n",
    "from sklearn.model_selection import train_test_split\n",
    "import numpy as np\n",
    "import pandas as pd\n",
    "from torch.utils.data import Dataset, DataLoader\n",
    "from sklearn.preprocessing import LabelEncoder\n",
    "import tensorflow as tf"
   ]
  },
  {
   "cell_type": "code",
   "execution_count": 55,
   "id": "337e1788",
   "metadata": {},
   "outputs": [],
   "source": [
    "path_to_csv = \"data/contagio-all.csv\""
   ]
  },
  {
   "cell_type": "code",
   "execution_count": 5,
   "id": "38b18d3a",
   "metadata": {},
   "outputs": [],
   "source": [
    "# Load datasets\n",
    "df = pd.read_csv(path_to_csv)"
   ]
  },
  {
   "cell_type": "code",
   "execution_count": 6,
   "id": "0f062e85",
   "metadata": {},
   "outputs": [],
   "source": [
    "df =df.drop(['filename'], axis=1)"
   ]
  },
  {
   "cell_type": "code",
   "execution_count": 7,
   "id": "e915ae78",
   "metadata": {},
   "outputs": [
    {
     "data": {
      "text/html": [
       "<div>\n",
       "<style scoped>\n",
       "    .dataframe tbody tr th:only-of-type {\n",
       "        vertical-align: middle;\n",
       "    }\n",
       "\n",
       "    .dataframe tbody tr th {\n",
       "        vertical-align: top;\n",
       "    }\n",
       "\n",
       "    .dataframe thead th {\n",
       "        text-align: right;\n",
       "    }\n",
       "</style>\n",
       "<table border=\"1\" class=\"dataframe\">\n",
       "  <thead>\n",
       "    <tr style=\"text-align: right;\">\n",
       "      <th></th>\n",
       "      <th>class</th>\n",
       "      <th>author_dot</th>\n",
       "      <th>author_lc</th>\n",
       "      <th>author_len</th>\n",
       "      <th>author_mismatch</th>\n",
       "      <th>author_num</th>\n",
       "      <th>author_oth</th>\n",
       "      <th>author_uc</th>\n",
       "      <th>box_nonother_types</th>\n",
       "      <th>box_other_only</th>\n",
       "      <th>...</th>\n",
       "      <th>subject_oth</th>\n",
       "      <th>subject_uc</th>\n",
       "      <th>title_dot</th>\n",
       "      <th>title_lc</th>\n",
       "      <th>title_len</th>\n",
       "      <th>title_mismatch</th>\n",
       "      <th>title_num</th>\n",
       "      <th>title_oth</th>\n",
       "      <th>title_uc</th>\n",
       "      <th>version</th>\n",
       "    </tr>\n",
       "  </thead>\n",
       "  <tbody>\n",
       "    <tr>\n",
       "      <th>0</th>\n",
       "      <td>0</td>\n",
       "      <td>0</td>\n",
       "      <td>0</td>\n",
       "      <td>0</td>\n",
       "      <td>0</td>\n",
       "      <td>0</td>\n",
       "      <td>0</td>\n",
       "      <td>0</td>\n",
       "      <td>18</td>\n",
       "      <td>0</td>\n",
       "      <td>...</td>\n",
       "      <td>0</td>\n",
       "      <td>0</td>\n",
       "      <td>0</td>\n",
       "      <td>60</td>\n",
       "      <td>90</td>\n",
       "      <td>1</td>\n",
       "      <td>4</td>\n",
       "      <td>13</td>\n",
       "      <td>13</td>\n",
       "      <td>4</td>\n",
       "    </tr>\n",
       "    <tr>\n",
       "      <th>1</th>\n",
       "      <td>0</td>\n",
       "      <td>0</td>\n",
       "      <td>0</td>\n",
       "      <td>11</td>\n",
       "      <td>1</td>\n",
       "      <td>0</td>\n",
       "      <td>3</td>\n",
       "      <td>8</td>\n",
       "      <td>6</td>\n",
       "      <td>0</td>\n",
       "      <td>...</td>\n",
       "      <td>8</td>\n",
       "      <td>6</td>\n",
       "      <td>0</td>\n",
       "      <td>3</td>\n",
       "      <td>17</td>\n",
       "      <td>1</td>\n",
       "      <td>5</td>\n",
       "      <td>5</td>\n",
       "      <td>4</td>\n",
       "      <td>7</td>\n",
       "    </tr>\n",
       "    <tr>\n",
       "      <th>2</th>\n",
       "      <td>0</td>\n",
       "      <td>0</td>\n",
       "      <td>0</td>\n",
       "      <td>0</td>\n",
       "      <td>0</td>\n",
       "      <td>0</td>\n",
       "      <td>0</td>\n",
       "      <td>0</td>\n",
       "      <td>0</td>\n",
       "      <td>1</td>\n",
       "      <td>...</td>\n",
       "      <td>0</td>\n",
       "      <td>0</td>\n",
       "      <td>0</td>\n",
       "      <td>0</td>\n",
       "      <td>0</td>\n",
       "      <td>0</td>\n",
       "      <td>0</td>\n",
       "      <td>0</td>\n",
       "      <td>0</td>\n",
       "      <td>4</td>\n",
       "    </tr>\n",
       "    <tr>\n",
       "      <th>3</th>\n",
       "      <td>0</td>\n",
       "      <td>0</td>\n",
       "      <td>9</td>\n",
       "      <td>12</td>\n",
       "      <td>1</td>\n",
       "      <td>0</td>\n",
       "      <td>1</td>\n",
       "      <td>2</td>\n",
       "      <td>20</td>\n",
       "      <td>0</td>\n",
       "      <td>...</td>\n",
       "      <td>0</td>\n",
       "      <td>0</td>\n",
       "      <td>0</td>\n",
       "      <td>0</td>\n",
       "      <td>16</td>\n",
       "      <td>8</td>\n",
       "      <td>0</td>\n",
       "      <td>2</td>\n",
       "      <td>14</td>\n",
       "      <td>4</td>\n",
       "    </tr>\n",
       "    <tr>\n",
       "      <th>4</th>\n",
       "      <td>0</td>\n",
       "      <td>3</td>\n",
       "      <td>27</td>\n",
       "      <td>48</td>\n",
       "      <td>1</td>\n",
       "      <td>0</td>\n",
       "      <td>13</td>\n",
       "      <td>8</td>\n",
       "      <td>3</td>\n",
       "      <td>0</td>\n",
       "      <td>...</td>\n",
       "      <td>3</td>\n",
       "      <td>2</td>\n",
       "      <td>3</td>\n",
       "      <td>14</td>\n",
       "      <td>28</td>\n",
       "      <td>1</td>\n",
       "      <td>0</td>\n",
       "      <td>9</td>\n",
       "      <td>5</td>\n",
       "      <td>3</td>\n",
       "    </tr>\n",
       "  </tbody>\n",
       "</table>\n",
       "<p>5 rows × 136 columns</p>\n",
       "</div>"
      ],
      "text/plain": [
       "   class  author_dot  author_lc  author_len  author_mismatch  author_num  \\\n",
       "0      0           0          0           0                0           0   \n",
       "1      0           0          0          11                1           0   \n",
       "2      0           0          0           0                0           0   \n",
       "3      0           0          9          12                1           0   \n",
       "4      0           3         27          48                1           0   \n",
       "\n",
       "   author_oth  author_uc  box_nonother_types  box_other_only  ...  \\\n",
       "0           0          0                  18               0  ...   \n",
       "1           3          8                   6               0  ...   \n",
       "2           0          0                   0               1  ...   \n",
       "3           1          2                  20               0  ...   \n",
       "4          13          8                   3               0  ...   \n",
       "\n",
       "   subject_oth  subject_uc  title_dot  title_lc  title_len  title_mismatch  \\\n",
       "0            0           0          0        60         90               1   \n",
       "1            8           6          0         3         17               1   \n",
       "2            0           0          0         0          0               0   \n",
       "3            0           0          0         0         16               8   \n",
       "4            3           2          3        14         28               1   \n",
       "\n",
       "   title_num  title_oth  title_uc  version  \n",
       "0          4         13        13        4  \n",
       "1          5          5         4        7  \n",
       "2          0          0         0        4  \n",
       "3          0          2        14        4  \n",
       "4          0          9         5        3  \n",
       "\n",
       "[5 rows x 136 columns]"
      ]
     },
     "execution_count": 7,
     "metadata": {},
     "output_type": "execute_result"
    }
   ],
   "source": [
    "df.head()"
   ]
  },
  {
   "cell_type": "code",
   "execution_count": 8,
   "id": "e1e2b9e8",
   "metadata": {},
   "outputs": [],
   "source": [
    "\n",
    "# Pandas dataframes to numpy arrays\n",
    "X = df.drop([\"class\"], axis=1).values\n",
    "Y = df[\"class\"].values\n"
   ]
  },
  {
   "cell_type": "code",
   "execution_count": 9,
   "id": "aad1de89",
   "metadata": {},
   "outputs": [],
   "source": [
    "from sklearn.preprocessing import normalize\n",
    "\n",
    "binary_encoding = False \n",
    "if binary_encoding: \n",
    "    X[np.where(data!= 0)] = 1\n",
    "else:\n",
    "    X = normalize(X, 'max', axis=0)"
   ]
  },
  {
   "cell_type": "code",
   "execution_count": 10,
   "id": "21a2820d",
   "metadata": {},
   "outputs": [],
   "source": [
    "train_features, test_features, train_labels, test_labels = train_test_split(\n",
    "    X, Y, test_size=0.3\n",
    ")"
   ]
  },
  {
   "cell_type": "code",
   "execution_count": 11,
   "id": "f9dd0c84",
   "metadata": {},
   "outputs": [
    {
     "data": {
      "text/plain": [
       "(6999, 135)"
      ]
     },
     "execution_count": 11,
     "metadata": {},
     "output_type": "execute_result"
    }
   ],
   "source": [
    "train_features.shape"
   ]
  },
  {
   "cell_type": "code",
   "execution_count": 12,
   "id": "a6e982e2",
   "metadata": {},
   "outputs": [
    {
     "data": {
      "text/plain": [
       "(3000, 135)"
      ]
     },
     "execution_count": 12,
     "metadata": {},
     "output_type": "execute_result"
    }
   ],
   "source": [
    "test_features.shape"
   ]
  },
  {
   "cell_type": "code",
   "execution_count": 13,
   "id": "72330e55",
   "metadata": {},
   "outputs": [],
   "source": [
    "class NNModel(nn.Module):\n",
    "    def __init__(self):\n",
    "        super().__init__()\n",
    "        self.linear1 = nn.Linear(135, 135)\n",
    "        self.sigmoid1 = nn.Sigmoid()\n",
    "        self.linear2 = nn.Linear(135, 100)\n",
    "        self.sigmoid2 = nn.Sigmoid()\n",
    "        self.linear3 = nn.Linear(100, 8)\n",
    "        self.sigmoid3 = nn.Sigmoid()\n",
    "        self.linear4 = nn.Linear(8, 2)\n",
    "        self.softmax = nn.Softmax(dim=1)\n",
    "\n",
    "    def forward(self, x):\n",
    "        lin1_out = self.linear1(x)\n",
    "        sigmoid_out1 = self.sigmoid1(lin1_out)\n",
    "        sigmoid_out2 = self.sigmoid2(self.linear2(sigmoid_out1))\n",
    "        sigmoid_out3 = self.sigmoid3(self.linear3(sigmoid_out2))\n",
    "        return self.softmax(self.linear4(sigmoid_out3))"
   ]
  },
  {
   "cell_type": "code",
   "execution_count": 14,
   "id": "45c9da89",
   "metadata": {},
   "outputs": [],
   "source": [
    "net = NNModel()\n",
    "\n",
    "criterion = nn.CrossEntropyLoss()\n",
    "num_epochs = 300\n",
    "\n",
    "optimizer = torch.optim.Adam(net.parameters(), lr=0.001)\n",
    "input_tensor = torch.from_numpy(train_features).type(torch.FloatTensor)\n",
    "label_tensor = torch.from_numpy(train_labels)\n"
   ]
  },
  {
   "cell_type": "code",
   "execution_count": 15,
   "id": "515fb163",
   "metadata": {},
   "outputs": [
    {
     "data": {
      "text/plain": [
       "'\\nfor epoch in range(num_epochs):\\n    output = net(input_tensor)\\n    loss = criterion(output, label_tensor)\\n    optimizer.zero_grad()\\n    loss.backward()\\n    optimizer.step()\\n    if epoch % 20 == 0:\\n        print(\"Epoch {}/{} => Loss: {:.2f}\".format(epoch + 1, num_epochs, loss.item())) \\n\\n'"
      ]
     },
     "execution_count": 15,
     "metadata": {},
     "output_type": "execute_result"
    }
   ],
   "source": [
    "# Use this to train the model \n",
    "\n",
    "'''\n",
    "for epoch in range(num_epochs):\n",
    "    output = net(input_tensor)\n",
    "    loss = criterion(output, label_tensor)\n",
    "    optimizer.zero_grad()\n",
    "    loss.backward()\n",
    "    optimizer.step()\n",
    "    if epoch % 20 == 0:\n",
    "        print(\"Epoch {}/{} => Loss: {:.2f}\".format(epoch + 1, num_epochs, loss.item())) \n",
    "\n",
    "'''"
   ]
  },
  {
   "cell_type": "code",
   "execution_count": 15,
   "id": "1f4179d0",
   "metadata": {},
   "outputs": [
    {
     "data": {
      "text/plain": [
       "NNModel(\n",
       "  (linear1): Linear(in_features=135, out_features=135, bias=True)\n",
       "  (sigmoid1): Sigmoid()\n",
       "  (linear2): Linear(in_features=135, out_features=100, bias=True)\n",
       "  (sigmoid2): Sigmoid()\n",
       "  (linear3): Linear(in_features=100, out_features=8, bias=True)\n",
       "  (sigmoid3): Sigmoid()\n",
       "  (linear4): Linear(in_features=8, out_features=2, bias=True)\n",
       "  (softmax): Softmax(dim=1)\n",
       ")"
      ]
     },
     "execution_count": 15,
     "metadata": {},
     "output_type": "execute_result"
    }
   ],
   "source": [
    "## load the trained model\n",
    "path = \"PDFClassifierFinal.pth\"\n",
    "net = NNModel()\n",
    "net.load_state_dict(torch.load(path))\n",
    "net.eval()"
   ]
  },
  {
   "cell_type": "code",
   "execution_count": 16,
   "id": "4a98fc05",
   "metadata": {},
   "outputs": [
    {
     "name": "stdout",
     "output_type": "stream",
     "text": [
      "Train Accuracy: 0.9767109587083869\n"
     ]
    }
   ],
   "source": [
    "out_probs = net(input_tensor).detach().numpy()\n",
    "out_classes = np.argmax(out_probs, axis=1)\n",
    "print(\"Train Accuracy:\", sum(out_classes == train_labels) / len(train_labels))"
   ]
  },
  {
   "cell_type": "code",
   "execution_count": 17,
   "id": "da4f549a",
   "metadata": {},
   "outputs": [
    {
     "name": "stdout",
     "output_type": "stream",
     "text": [
      "Test Accuracy: 0.9803333333333333\n"
     ]
    }
   ],
   "source": [
    "test_input_tensor = torch.from_numpy(test_features).type(torch.FloatTensor)\n",
    "out_probs = net(test_input_tensor).detach().numpy()\n",
    "out_classes = np.argmax(out_probs, axis=1)\n",
    "print(\"Test Accuracy:\", sum(out_classes == test_labels) / len(test_labels))"
   ]
  },
  {
   "cell_type": "code",
   "execution_count": 18,
   "id": "af0e7848",
   "metadata": {},
   "outputs": [],
   "source": [
    "#generate test_label_tensor to be used in quantitative evaluation\n",
    "test_labels_tensor =  torch.from_numpy(test_labels)"
   ]
  },
  {
   "cell_type": "markdown",
   "id": "188e7401",
   "metadata": {},
   "source": [
    "# Generate explanations and then metrics"
   ]
  },
  {
   "cell_type": "code",
   "execution_count": 19,
   "id": "49f8e038",
   "metadata": {},
   "outputs": [],
   "source": [
    "# imports from captum library\n",
    "from captum.attr import IntegratedGradients, DeepLift, GradientShap, NoiseTunnel, Saliency, InputXGradient, Occlusion "
   ]
  },
  {
   "cell_type": "code",
   "execution_count": 20,
   "id": "f17fdde4",
   "metadata": {},
   "outputs": [],
   "source": [
    "from captum.attr import DeepLiftShap, KernelShap, LimeBase"
   ]
  },
  {
   "cell_type": "code",
   "execution_count": 25,
   "id": "b259ef51",
   "metadata": {},
   "outputs": [],
   "source": [
    "# load classes for each of the quantitative metrics\n",
    "\n",
    "ks = KernelShap(net)\n",
    "ig = IntegratedGradients(net)\n",
    "dl = DeepLift(net)\n",
    "gs = GradientShap(net)\n",
    "sa = Saliency(net)\n",
    "inputXgradient = InputXGradient(net)\n",
    "occl = Occlusion(net)\n",
    "dls = DeepLiftShap(net)"
   ]
  },
  {
   "cell_type": "code",
   "execution_count": 26,
   "id": "607ef735",
   "metadata": {},
   "outputs": [],
   "source": [
    "test_feature = test_input_tensor[1:800]\n",
    "test_label = test_labels_tensor[1:800]\n",
    "new_test_label = []\n",
    "new_test_feature = []\n",
    "for i in range(len(test_label)):\n",
    "    if (test_label[i] == 1):\n",
    "        new_test_label.append(test_label[i])\n",
    "        new_test_feature.append(test_feature[i])"
   ]
  },
  {
   "cell_type": "code",
   "execution_count": 30,
   "id": "8011b3e8",
   "metadata": {},
   "outputs": [],
   "source": [
    "new_test_feature_tensor = torch.stack(new_test_feature)\n",
    "new_test_label_tensor = torch.stack(new_test_label)"
   ]
  },
  {
   "cell_type": "code",
   "execution_count": 31,
   "id": "1f18de84",
   "metadata": {},
   "outputs": [
    {
     "data": {
      "text/plain": [
       "torch.Size([404])"
      ]
     },
     "execution_count": 31,
     "metadata": {},
     "output_type": "execute_result"
    }
   ],
   "source": [
    "new_test_label_tensor.shape"
   ]
  },
  {
   "cell_type": "markdown",
   "id": "f7086b73",
   "metadata": {},
   "source": [
    "## Get feature attributions for different methods"
   ]
  },
  {
   "cell_type": "code",
   "execution_count": 33,
   "id": "808ab593",
   "metadata": {},
   "outputs": [],
   "source": [
    "ig_attr_test = ig.attribute(new_test_feature_tensor, target = new_test_label_tensor, n_steps=50)"
   ]
  },
  {
   "cell_type": "code",
   "execution_count": 34,
   "id": "4c9c795e",
   "metadata": {},
   "outputs": [],
   "source": [
    "dl_attr_test = dl.attribute(new_test_feature_tensor, target = new_test_label_tensor,)"
   ]
  },
  {
   "cell_type": "code",
   "execution_count": 35,
   "id": "1530adb4",
   "metadata": {},
   "outputs": [],
   "source": [
    "ks_attr_test = ks.attribute(new_test_feature_tensor, target = new_test_label_tensor)"
   ]
  },
  {
   "cell_type": "code",
   "execution_count": 36,
   "id": "d4f91d9d",
   "metadata": {},
   "outputs": [],
   "source": [
    "gs_attr_test = gs.attribute(new_test_feature_tensor, target = new_test_label_tensor, baselines = input_tensor[1:50])\n",
    "sa_attr_test = sa.attribute(new_test_feature_tensor, target = new_test_label_tensor,)"
   ]
  },
  {
   "cell_type": "code",
   "execution_count": 37,
   "id": "a30e1830",
   "metadata": {},
   "outputs": [],
   "source": [
    "inputXgradient_attr_test = inputXgradient.attribute(new_test_feature_tensor, target = new_test_label_tensor,)\n",
    "occl_attr_test = occl.attribute(new_test_feature_tensor, sliding_window_shapes=(3,))"
   ]
  },
  {
   "cell_type": "code",
   "execution_count": null,
   "id": "e56809ee",
   "metadata": {},
   "outputs": [
    {
     "name": "stderr",
     "output_type": "stream",
     "text": [
      "/data/virtual environments/SoK Paper/sok-paper/lib/python3.8/site-packages/captum/attr/_core/deep_lift.py:304: UserWarning: Setting forward, backward hooks and attributes on non-linear\n",
      "               activations. The hooks and attributes will be removed\n",
      "            after the attribution is finished\n",
      "  warnings.warn(\n"
     ]
    }
   ],
   "source": [
    "#baselines = torch.zeros(new_test_feature_tensor.shape)\n",
    "#dls_attr_test = dls.attribute(new_test_feature_tensor, target = new_test_label_tensor, baselines=baselines)"
   ]
  },
  {
   "cell_type": "markdown",
   "id": "83710b17",
   "metadata": {},
   "source": [
    "# Extract top features from each method "
   ]
  },
  {
   "cell_type": "code",
   "execution_count": 38,
   "id": "c262253f",
   "metadata": {},
   "outputs": [],
   "source": [
    "path_to_csv = \"pdf-data/data/contagio-all.csv\"\n",
    "data = pd.read_csv(path_to_csv, dtype=str, delimiter=',',)\n",
    "data = data.drop(['filename'], axis=1)\n",
    "data = data.drop(['class'], axis=1)\n",
    "feature_names = data.columns\n",
    "x_axis_data = np.arange(test_features.shape[1])"
   ]
  },
  {
   "cell_type": "code",
   "execution_count": 39,
   "id": "106f65f0",
   "metadata": {},
   "outputs": [
    {
     "data": {
      "text/plain": [
       "array([  0,   1,   2,   3,   4,   5,   6,   7,   8,   9,  10,  11,  12,\n",
       "        13,  14,  15,  16,  17,  18,  19,  20,  21,  22,  23,  24,  25,\n",
       "        26,  27,  28,  29,  30,  31,  32,  33,  34,  35,  36,  37,  38,\n",
       "        39,  40,  41,  42,  43,  44,  45,  46,  47,  48,  49,  50,  51,\n",
       "        52,  53,  54,  55,  56,  57,  58,  59,  60,  61,  62,  63,  64,\n",
       "        65,  66,  67,  68,  69,  70,  71,  72,  73,  74,  75,  76,  77,\n",
       "        78,  79,  80,  81,  82,  83,  84,  85,  86,  87,  88,  89,  90,\n",
       "        91,  92,  93,  94,  95,  96,  97,  98,  99, 100, 101, 102, 103,\n",
       "       104, 105, 106, 107, 108, 109, 110, 111, 112, 113, 114, 115, 116,\n",
       "       117, 118, 119, 120, 121, 122, 123, 124, 125, 126, 127, 128, 129,\n",
       "       130, 131, 132, 133, 134])"
      ]
     },
     "execution_count": 39,
     "metadata": {},
     "output_type": "execute_result"
    }
   ],
   "source": [
    "x_axis_data"
   ]
  },
  {
   "cell_type": "code",
   "execution_count": 40,
   "id": "d1bbfc4b",
   "metadata": {},
   "outputs": [],
   "source": [
    "x_axis_data_labels = list(map(lambda idx: feature_names[idx], x_axis_data))"
   ]
  },
  {
   "cell_type": "code",
   "execution_count": 41,
   "id": "93ac8dc5",
   "metadata": {},
   "outputs": [],
   "source": [
    "lime_attr_test_sum = lime_attr.detach().numpy().sum(0)\n",
    "lime_attr_test_norm_sum = lime_attr_test_sum / np.linalg.norm(lime_attr_test_sum, ord=1)\n",
    "\n",
    "ks_attr_test_sum = ks_attr_test.detach().numpy().sum(0)\n",
    "ks_attr_test_norm_sum = ks_attr_test_sum / np.linalg.norm(ks_attr_test_sum, ord=1)"
   ]
  },
  {
   "cell_type": "code",
   "execution_count": 42,
   "id": "69ca2800",
   "metadata": {},
   "outputs": [],
   "source": [
    "ig_attr_test_sum = ig_attr_test.detach().numpy().sum(0)\n",
    "ig_attr_test_norm_sum = ig_attr_test_sum / np.linalg.norm(ig_attr_test_sum, ord=1)"
   ]
  },
  {
   "cell_type": "code",
   "execution_count": 43,
   "id": "2d8790b9",
   "metadata": {},
   "outputs": [],
   "source": [
    "gs_attr_test_sum = gs_attr_test.detach().numpy().sum(0)\n",
    "gs_attr_test_norm_sum = gs_attr_test_sum / np.linalg.norm(gs_attr_test_sum, ord=1)\n",
    "\n",
    "dl_attr_test_sum = dl_attr_test.detach().numpy().sum(0)\n",
    "dl_attr_test_norm_sum = dl_attr_test_sum / np.linalg.norm(dl_attr_test_sum, ord=1)\n",
    "\n",
    "sa_attr_test_sum = sa_attr_test.detach().numpy().sum(0)\n",
    "sa_attr_test_norm_sum = sa_attr_test_sum / np.linalg.norm(sa_attr_test_sum, ord=1)\n",
    "\n",
    "inputxgradient_attr_test_sum = inputXgradient_attr_test.detach().numpy().sum(0)\n",
    "inputxgradient_attr_test_norm_sum = inputxgradient_attr_test_sum / np.linalg.norm(inputxgradient_attr_test_sum, ord=1)"
   ]
  },
  {
   "cell_type": "code",
   "execution_count": 44,
   "id": "3b9d02b4",
   "metadata": {},
   "outputs": [],
   "source": [
    "occl_attr_test_sum = occl_attr_test.detach().numpy().sum(0)\n",
    "occl_attr_test_norm_sum = occl_attr_test_sum / np.linalg.norm(occl_attr_test_sum, ord=1)\n",
    "\n",
    "#dls_attr_test_sum = dls_attr_test.detach().numpy().sum(0)\n",
    "#dls_attr_test_norm_sum = dls_attr_test_sum / np.linalg.norm(dls_attr_test_sum, ord=1)"
   ]
  },
  {
   "cell_type": "markdown",
   "id": "abdaffb4",
   "metadata": {},
   "source": [
    "# Print top-10 features for each method"
   ]
  },
  {
   "cell_type": "code",
   "execution_count": 46,
   "id": "589ff347",
   "metadata": {},
   "outputs": [],
   "source": [
    "k = 10"
   ]
  },
  {
   "cell_type": "code",
   "execution_count": 49,
   "id": "ca43f990",
   "metadata": {},
   "outputs": [
    {
     "data": {
      "text/plain": [
       "['pos_image_max',\n",
       " 'pos_eof_min',\n",
       " 'pos_image_min',\n",
       " 'pos_image_avg',\n",
       " 'author_dot',\n",
       " 'len_obj_min',\n",
       " 'pos_eof_avg',\n",
       " 'count_endstream',\n",
       " 'pdfid1_oth',\n",
       " 'pdfid0_oth']"
      ]
     },
     "execution_count": 49,
     "metadata": {},
     "output_type": "execute_result"
    }
   ],
   "source": [
    "#for shap\n",
    "#top_15_ind = np.argpartition(sa_attr_test_norm_sum, -15)[-15:]\n",
    "top_15_ind = np.argsort(ks_attr_test_norm_sum)[-k:]\n",
    "new_array = ks_attr_test_norm_sum[top_15_ind]\n",
    "top_15_labels = [x_axis_data_labels[i] for i in top_15_ind]\n",
    "top_15_labels.reverse()\n",
    "top_15_labels"
   ]
  },
  {
   "cell_type": "code",
   "execution_count": 50,
   "id": "01c00a77",
   "metadata": {},
   "outputs": [],
   "source": [
    "#for deepliftshap\n",
    "#top_15_ind = np.argpartition(sa_attr_test_norm_sum, -15)[-15:]\n",
    "#top_15_ind = np.argsort(dls_attr_test_norm_sum)[-20:]\n",
    "#new_array = dls_attr_test_norm_sum[top_15_ind]\n",
    "#top_15_labels = [x_axis_data_labels[i] for i in top_15_ind]\n",
    "#top_15_labels.reverse()\n",
    "#top_15_labels"
   ]
  },
  {
   "cell_type": "code",
   "execution_count": 51,
   "id": "b2571eed",
   "metadata": {},
   "outputs": [
    {
     "data": {
      "text/plain": [
       "['createdate_tz',\n",
       " 'createdate_ts',\n",
       " 'count_startxref',\n",
       " 'count_box_letter',\n",
       " 'count_page_obs',\n",
       " 'createdate_version_ratio',\n",
       " 'moddate_mismatch',\n",
       " 'count_box_other',\n",
       " 'createdate_mismatch',\n",
       " 'count_page']"
      ]
     },
     "execution_count": 51,
     "metadata": {},
     "output_type": "execute_result"
    }
   ],
   "source": [
    "#for occlusion\n",
    "#top_15_ind = np.argpartition(sa_attr_test_norm_sum, -15)[-15:]\n",
    "top_15_ind = np.argsort(occl_attr_test_norm_sum)[-k:]\n",
    "new_array = occl_attr_test_norm_sum[top_15_ind]\n",
    "top_15_labels = [x_axis_data_labels[i] for i in top_15_ind]\n",
    "top_15_labels.reverse()\n",
    "top_15_labels"
   ]
  },
  {
   "cell_type": "code",
   "execution_count": 52,
   "id": "c4b386fb",
   "metadata": {},
   "outputs": [
    {
     "data": {
      "text/plain": [
       "['pos_eof_min',\n",
       " 'pos_image_avg',\n",
       " 'pos_image_max',\n",
       " 'pos_image_min',\n",
       " 'len_obj_min',\n",
       " 'pos_eof_avg',\n",
       " 'pos_box_min',\n",
       " 'pos_page_min',\n",
       " 'version',\n",
       " 'author_uc']"
      ]
     },
     "execution_count": 52,
     "metadata": {},
     "output_type": "execute_result"
    }
   ],
   "source": [
    "#for simple gradient X input method\n",
    "#top_15_ind = np.argpartition(sa_attr_test_norm_sum, -15)[-15:]\n",
    "top_15_ind = np.argsort(inputxgradient_attr_test_norm_sum)[-k:]\n",
    "new_array = inputxgradient_attr_test_norm_sum[top_15_ind]\n",
    "top_15_labels = [x_axis_data_labels[i] for i in top_15_ind]\n",
    "top_15_labels.reverse()\n",
    "top_15_labels"
   ]
  },
  {
   "cell_type": "code",
   "execution_count": 53,
   "id": "6ee852bf",
   "metadata": {},
   "outputs": [
    {
     "data": {
      "text/plain": [
       "['count_stream_diff',\n",
       " 'count_js',\n",
       " 'len_obj_min',\n",
       " 'count_javascript',\n",
       " 'len_stream_avg',\n",
       " 'ratio_size_obj',\n",
       " 'producer_uc',\n",
       " 'keywords_num',\n",
       " 'len_obj_avg',\n",
       " 'count_box_a4']"
      ]
     },
     "execution_count": 53,
     "metadata": {},
     "output_type": "execute_result"
    }
   ],
   "source": [
    "#for simple gradient method\n",
    "#top_15_ind = np.argpartition(sa_attr_test_norm_sum, -15)[-15:]\n",
    "top_15_ind = np.argsort(sa_attr_test_norm_sum)[-k:]\n",
    "new_array = sa_attr_test_norm_sum[top_15_ind]\n",
    "top_15_labels = [x_axis_data_labels[i] for i in top_15_ind]\n",
    "top_15_labels.reverse()\n",
    "top_15_labels"
   ]
  },
  {
   "cell_type": "code",
   "execution_count": 54,
   "id": "b0ba2966",
   "metadata": {},
   "outputs": [
    {
     "data": {
      "text/plain": [
       "['pos_box_max',\n",
       " 'pdfid1_len',\n",
       " 'pdfid0_len',\n",
       " 'pos_eof_min',\n",
       " 'pdfid1_num',\n",
       " 'pdfid_mismatch',\n",
       " 'pos_image_max',\n",
       " 'producer_uc',\n",
       " 'pos_page_max',\n",
       " 'pos_image_avg']"
      ]
     },
     "execution_count": 54,
     "metadata": {},
     "output_type": "execute_result"
    }
   ],
   "source": [
    "# For GradientShap, get top 15 features\n",
    "\n",
    "top_15_ind = np.argsort(gs_attr_test_norm_sum)[-k:]\n",
    "new_array = gs_attr_test_norm_sum[top_15_ind]\n",
    "top_15_labels = [x_axis_data_labels[i] for i in top_15_ind]\n",
    "top_15_labels.reverse()\n",
    "top_15_labels"
   ]
  },
  {
   "cell_type": "code",
   "execution_count": 56,
   "id": "188babd8",
   "metadata": {},
   "outputs": [
    {
     "data": {
      "text/plain": [
       "['pos_image_avg',\n",
       " 'pos_image_max',\n",
       " 'pos_image_min',\n",
       " 'pos_eof_min',\n",
       " 'len_obj_min',\n",
       " 'pos_eof_avg',\n",
       " 'createdate_tz',\n",
       " 'pos_box_min',\n",
       " 'version',\n",
       " 'moddate_tz']"
      ]
     },
     "execution_count": 56,
     "metadata": {},
     "output_type": "execute_result"
    }
   ],
   "source": [
    "# For IG, get top 15 features\n",
    "\n",
    "top_15_ind = np.argsort(ig_attr_test_norm_sum)[-k:]\n",
    "new_array = ig_attr_test_norm_sum[top_15_ind]\n",
    "top_15_labels = [x_axis_data_labels[i] for i in top_15_ind]\n",
    "top_15_labels.reverse()\n",
    "top_15_labels"
   ]
  },
  {
   "cell_type": "code",
   "execution_count": 57,
   "id": "1a8981b4",
   "metadata": {},
   "outputs": [
    {
     "data": {
      "text/plain": [
       "['pos_image_avg',\n",
       " 'pos_image_max',\n",
       " 'pos_image_min',\n",
       " 'pos_eof_min',\n",
       " 'len_obj_min',\n",
       " 'pos_eof_avg',\n",
       " 'createdate_tz',\n",
       " 'pos_box_min',\n",
       " 'version',\n",
       " 'moddate_tz']"
      ]
     },
     "execution_count": 57,
     "metadata": {},
     "output_type": "execute_result"
    }
   ],
   "source": [
    "# For DeepLift, get top 15 features\n",
    "\n",
    "top_15_ind = np.argsort(dl_attr_test_norm_sum)[-k:]\n",
    "new_array = dl_attr_test_norm_sum[top_15_ind]\n",
    "top_15_labels = [x_axis_data_labels[i] for i in top_15_ind]\n",
    "top_15_labels.reverse()\n",
    "top_15_labels"
   ]
  },
  {
   "cell_type": "markdown",
   "id": "34ea6e7d",
   "metadata": {},
   "source": [
    "# Compute metrics"
   ]
  },
  {
   "cell_type": "markdown",
   "id": "12fb0c19",
   "metadata": {},
   "source": [
    "### In the explain_func_kwargs, use different method from captum.attr to produce evaluation score."
   ]
  },
  {
   "cell_type": "markdown",
   "id": "56e5df5d",
   "metadata": {},
   "source": [
    "## Methods: \n",
    "\n",
    "'GradientShap', \n",
    "'IntegratedGradients', \n",
    "'DeepLift', \n",
    "'InputXGradient',\n",
    "'Saliency' --> Gradient \n",
    "'KernelShap', \n",
    "'Occlusion',"
   ]
  },
  {
   "cell_type": "markdown",
   "id": "86767a96",
   "metadata": {},
   "source": [
    "## Model parameter randomisation test"
   ]
  },
  {
   "cell_type": "code",
   "execution_count": 69,
   "id": "02c57933",
   "metadata": {},
   "outputs": [
    {
     "data": {
      "application/vnd.jupyter.widget-view+json": {
       "model_id": "2bfecfb47dca49218e29033aa20b7c5e",
       "version_major": 2,
       "version_minor": 0
      },
      "text/plain": [
       "  0%|          | 0/4 [00:00<?, ?it/s]"
      ]
     },
     "metadata": {},
     "output_type": "display_data"
    },
    {
     "name": "stdout",
     "output_type": "stream",
     "text": [
      "0.23628719224978173\n"
     ]
    }
   ],
   "source": [
    "# Return ModelParameterRandomisation scores\n",
    "scores = quantus.ModelParameterRandomisation(\n",
    "    similarity_func=quantus.similarity_func.correlation_spearman,\n",
    "    return_sample_correlation=True,\n",
    "    layer_order=\"independent\",\n",
    "    disable_warnings=True,\n",
    "    normalise=True,\n",
    "    abs=True,\n",
    "    display_progressbar=True,\n",
    ")(\n",
    "    model=net,\n",
    "    x_batch=test_features,\n",
    "    y_batch=test_labels,\n",
    "    a_batch=None,\n",
    "    explain_func=quantus.explain,\n",
    "    explain_func_kwargs={\"method\": \"KernelShap\", \"reduce_axes\": ()},\n",
    ")\n",
    "print(np.average(scores))"
   ]
  },
  {
   "cell_type": "markdown",
   "id": "87e15864",
   "metadata": {},
   "source": [
    "# Sparsity"
   ]
  },
  {
   "cell_type": "code",
   "execution_count": 70,
   "id": "bb9e754b",
   "metadata": {},
   "outputs": [
    {
     "data": {
      "text/plain": [
       "[0.30469133456189496]"
      ]
     },
     "execution_count": 70,
     "metadata": {},
     "output_type": "execute_result"
    }
   ],
   "source": [
    "quantus.Sparseness(return_aggregate=True, aggregate_func=np.mean, disable_warnings=True)(\n",
    "    model=net,\n",
    "    x_batch=test_features,\n",
    "    y_batch= test_labels,\n",
    "    a_batch=None,\n",
    "    explain_func=quantus.explain,\n",
    "    explain_func_kwargs={\"method\": \"Saliency\"},\n",
    ")"
   ]
  },
  {
   "cell_type": "code",
   "execution_count": 72,
   "id": "e86b0b23",
   "metadata": {},
   "outputs": [
    {
     "data": {
      "text/plain": [
       "[0.8668646240116217]"
      ]
     },
     "execution_count": 72,
     "metadata": {},
     "output_type": "execute_result"
    }
   ],
   "source": [
    "quantus.Sparseness(return_aggregate=True, aggregate_func=np.mean, disable_warnings=True)(\n",
    "    model=net,\n",
    "    x_batch=test_features,\n",
    "    y_batch= test_labels,\n",
    "    a_batch=None,\n",
    "    explain_func=quantus.explain,\n",
    "    explain_func_kwargs={\"method\": \"GradientShap\"},\n",
    ")"
   ]
  },
  {
   "cell_type": "code",
   "execution_count": 73,
   "id": "1aea4bb1",
   "metadata": {},
   "outputs": [
    {
     "data": {
      "text/plain": [
       "[0.8668570371206296]"
      ]
     },
     "execution_count": 73,
     "metadata": {},
     "output_type": "execute_result"
    }
   ],
   "source": [
    "quantus.Sparseness(return_aggregate=True, aggregate_func=np.mean, disable_warnings=True)(\n",
    "    model=net,\n",
    "    x_batch=test_features,\n",
    "    y_batch= test_labels,\n",
    "    a_batch=None,\n",
    "    explain_func=quantus.explain,\n",
    "    explain_func_kwargs={\"method\": \"IntegratedGradients\"},\n",
    ")"
   ]
  },
  {
   "cell_type": "code",
   "execution_count": 75,
   "id": "4f27359d",
   "metadata": {},
   "outputs": [
    {
     "data": {
      "text/plain": [
       "[0.8668981173716611]"
      ]
     },
     "execution_count": 75,
     "metadata": {},
     "output_type": "execute_result"
    }
   ],
   "source": [
    "quantus.Sparseness(return_aggregate=True, aggregate_func=np.mean, disable_warnings=True)(\n",
    "    model=net,\n",
    "    x_batch=test_features,\n",
    "    y_batch= test_labels,\n",
    "    a_batch=None,\n",
    "    explain_func=quantus.explain,\n",
    "    explain_func_kwargs={\"method\": \"DeepLift\"},\n",
    ")"
   ]
  },
  {
   "cell_type": "code",
   "execution_count": 76,
   "id": "12b1c2d9",
   "metadata": {},
   "outputs": [
    {
     "data": {
      "text/plain": [
       "[0.8899459204998336]"
      ]
     },
     "execution_count": 76,
     "metadata": {},
     "output_type": "execute_result"
    }
   ],
   "source": [
    "quantus.Sparseness(return_aggregate=True, aggregate_func=np.mean, disable_warnings=True)(\n",
    "    model=net,\n",
    "    x_batch=test_features,\n",
    "    y_batch= test_labels,\n",
    "    a_batch=None,\n",
    "    explain_func=quantus.explain,\n",
    "    explain_func_kwargs={\"method\": \"Occlusion\"},\n",
    ")"
   ]
  },
  {
   "cell_type": "code",
   "execution_count": 78,
   "id": "1d3e55de",
   "metadata": {},
   "outputs": [
    {
     "data": {
      "text/plain": [
       "[0.8670586361583484]"
      ]
     },
     "execution_count": 78,
     "metadata": {},
     "output_type": "execute_result"
    }
   ],
   "source": [
    "quantus.Sparseness(return_aggregate=True, aggregate_func=np.mean, disable_warnings=True)(\n",
    "    model=net,\n",
    "    x_batch=test_features,\n",
    "    y_batch= test_labels,\n",
    "    a_batch=None,\n",
    "    explain_func=quantus.explain,\n",
    "    explain_func_kwargs={\"method\": \"InputXGradient\"},\n",
    ")"
   ]
  },
  {
   "cell_type": "code",
   "execution_count": 79,
   "id": "ec4c788e",
   "metadata": {},
   "outputs": [
    {
     "data": {
      "text/plain": [
       "[0.4632621786632215]"
      ]
     },
     "execution_count": 79,
     "metadata": {},
     "output_type": "execute_result"
    }
   ],
   "source": [
    "quantus.Sparseness(return_aggregate=True, aggregate_func=np.mean, disable_warnings=True)(\n",
    "    model=net,\n",
    "    x_batch=test_features,\n",
    "    y_batch= test_labels,\n",
    "    a_batch=None,\n",
    "    explain_func=quantus.explain,\n",
    "    explain_func_kwargs={\"method\": \"KernelShap\"},\n",
    ")"
   ]
  },
  {
   "cell_type": "markdown",
   "id": "7fef82c3",
   "metadata": {},
   "source": [
    "# Complexity"
   ]
  },
  {
   "cell_type": "code",
   "execution_count": 85,
   "id": "921bb951",
   "metadata": {},
   "outputs": [
    {
     "data": {
      "text/plain": [
       "[3.062942962139087]"
      ]
     },
     "execution_count": 85,
     "metadata": {},
     "output_type": "execute_result"
    }
   ],
   "source": [
    "quantus.Complexity(\n",
    "    normalise=True,\n",
    "    abs=True,\n",
    "    disable_warnings=True,\n",
    "    return_aggregate=True\n",
    ")(\n",
    "    model=net,\n",
    "    x_batch=test_features,\n",
    "    y_batch= test_labels,\n",
    "    a_batch=None,\n",
    "    explain_func=quantus.explain,\n",
    "    explain_func_kwargs={\"method\": \"DeepLift\", \"reduce_axes\": ()},\n",
    ")"
   ]
  },
  {
   "cell_type": "code",
   "execution_count": 86,
   "id": "ab77a099",
   "metadata": {},
   "outputs": [
    {
     "data": {
      "text/plain": [
       "[2.7967819565324517]"
      ]
     },
     "execution_count": 86,
     "metadata": {},
     "output_type": "execute_result"
    }
   ],
   "source": [
    "quantus.Complexity(\n",
    "    normalise=True,\n",
    "    abs=True,\n",
    "    disable_warnings=True,\n",
    "    return_aggregate=True\n",
    ")(\n",
    "    model=net,\n",
    "    x_batch=test_features,\n",
    "    y_batch= test_labels,\n",
    "    a_batch=None,\n",
    "    explain_func=quantus.explain,\n",
    "    explain_func_kwargs={\"method\": \"Occlusion\", \"reduce_axes\": ()},\n",
    ")"
   ]
  },
  {
   "cell_type": "code",
   "execution_count": 87,
   "id": "92869d96",
   "metadata": {},
   "outputs": [
    {
     "data": {
      "text/plain": [
       "[3.0623459514619675]"
      ]
     },
     "execution_count": 87,
     "metadata": {},
     "output_type": "execute_result"
    }
   ],
   "source": [
    "quantus.Complexity(\n",
    "    normalise=True,\n",
    "    abs=True,\n",
    "    disable_warnings=True,\n",
    "    return_aggregate=True\n",
    ")(\n",
    "    model=net,\n",
    "    x_batch=test_features,\n",
    "    y_batch= test_labels,\n",
    "    a_batch=None,\n",
    "    explain_func=quantus.explain,\n",
    "    explain_func_kwargs={\"method\": \"InputXGradient\", \"reduce_axes\": ()},\n",
    ")"
   ]
  },
  {
   "cell_type": "markdown",
   "id": "8d48e506",
   "metadata": {},
   "source": [
    "# Faithfulness"
   ]
  },
  {
   "cell_type": "code",
   "execution_count": 88,
   "id": "2b58934d",
   "metadata": {},
   "outputs": [
    {
     "data": {
      "text/plain": [
       "[0.11906255975062713]"
      ]
     },
     "execution_count": 88,
     "metadata": {},
     "output_type": "execute_result"
    }
   ],
   "source": [
    "quantus.FaithfulnessEstimate(\n",
    "    perturb_func=quantus.perturb_func.baseline_replacement_by_blur,\n",
    "    similarity_func=quantus.similarity_func.correlation_pearson,\n",
    "    features_in_step=1,  \n",
    "    perturb_baseline=\"black\",\n",
    "    return_aggregate=True, aggregate_func=np.mean, disable_warnings=True\n",
    ")( model=net,\n",
    "    x_batch=test_features,\n",
    "    y_batch=test_labels,\n",
    "    a_batch=None,\n",
    "    explain_func=quantus.explain,\n",
    "    explain_func_kwargs={\"method\": \"KernelShap\"},)"
   ]
  },
  {
   "cell_type": "code",
   "execution_count": 89,
   "id": "e7314a3d",
   "metadata": {},
   "outputs": [
    {
     "data": {
      "text/plain": [
       "[0.018380767089342703]"
      ]
     },
     "execution_count": 89,
     "metadata": {},
     "output_type": "execute_result"
    }
   ],
   "source": [
    "quantus.FaithfulnessEstimate(\n",
    "    perturb_func=quantus.perturb_func.baseline_replacement_by_blur,\n",
    "    similarity_func=quantus.similarity_func.correlation_pearson,\n",
    "    features_in_step=1,  \n",
    "    perturb_baseline=\"black\",\n",
    "    return_aggregate=True, aggregate_func=np.mean, disable_warnings=True\n",
    ")( model=net,\n",
    "    x_batch=test_features,\n",
    "    y_batch=test_labels,\n",
    "    a_batch=None,\n",
    "    explain_func=quantus.explain,\n",
    "    explain_func_kwargs={\"method\": \"Saliency\"},)"
   ]
  },
  {
   "cell_type": "code",
   "execution_count": 94,
   "id": "0992b4f4",
   "metadata": {},
   "outputs": [
    {
     "data": {
      "text/plain": [
       "[0.8002829203865486]"
      ]
     },
     "execution_count": 94,
     "metadata": {},
     "output_type": "execute_result"
    }
   ],
   "source": [
    "quantus.FaithfulnessEstimate(\n",
    "    perturb_func=quantus.perturb_func.baseline_replacement_by_blur,\n",
    "    similarity_func=quantus.similarity_func.correlation_pearson,\n",
    "    features_in_step=1,  \n",
    "    perturb_baseline=\"black\",\n",
    "    return_aggregate=True, aggregate_func=np.mean, disable_warnings=True\n",
    ")( model=net,\n",
    "    x_batch=test_features,\n",
    "    y_batch=test_labels,\n",
    "    a_batch=None,\n",
    "    explain_func=quantus.explain,\n",
    "    explain_func_kwargs={\"method\": \"GradientShap\"},)"
   ]
  },
  {
   "cell_type": "code",
   "execution_count": 95,
   "id": "c4e34295",
   "metadata": {},
   "outputs": [
    {
     "data": {
      "text/plain": [
       "[0.8001981130100103]"
      ]
     },
     "execution_count": 95,
     "metadata": {},
     "output_type": "execute_result"
    }
   ],
   "source": [
    "quantus.FaithfulnessEstimate(\n",
    "    perturb_func=quantus.perturb_func.baseline_replacement_by_blur,\n",
    "    similarity_func=quantus.similarity_func.correlation_pearson,\n",
    "    features_in_step=1,  \n",
    "    perturb_baseline=\"black\",\n",
    "    return_aggregate=True, aggregate_func=np.mean, disable_warnings=True\n",
    ")( model=net,\n",
    "    x_batch=test_features,\n",
    "    y_batch=test_labels,\n",
    "    a_batch=None,\n",
    "    explain_func=quantus.explain,\n",
    "    explain_func_kwargs={\"method\": \"IntegratedGradients\"},)"
   ]
  },
  {
   "cell_type": "code",
   "execution_count": 96,
   "id": "4e64747f",
   "metadata": {},
   "outputs": [
    {
     "data": {
      "text/plain": [
       "[0.8024003935983159]"
      ]
     },
     "execution_count": 96,
     "metadata": {},
     "output_type": "execute_result"
    }
   ],
   "source": [
    "quantus.FaithfulnessEstimate(\n",
    "    perturb_func=quantus.perturb_func.baseline_replacement_by_blur,\n",
    "    similarity_func=quantus.similarity_func.correlation_pearson,\n",
    "    features_in_step=1,  \n",
    "    perturb_baseline=\"black\",\n",
    "    return_aggregate=True, aggregate_func=np.mean, disable_warnings=True\n",
    ")( model=net,\n",
    "    x_batch=test_features,\n",
    "    y_batch=test_labels,\n",
    "    a_batch=None,\n",
    "    explain_func=quantus.explain,\n",
    "    explain_func_kwargs={\"method\": \"InputXGradient\"},)"
   ]
  },
  {
   "cell_type": "code",
   "execution_count": 97,
   "id": "76083b28",
   "metadata": {},
   "outputs": [
    {
     "data": {
      "text/plain": [
       "[0.9203405436046087]"
      ]
     },
     "execution_count": 97,
     "metadata": {},
     "output_type": "execute_result"
    }
   ],
   "source": [
    "quantus.FaithfulnessEstimate(\n",
    "    perturb_func=quantus.perturb_func.baseline_replacement_by_blur,\n",
    "    similarity_func=quantus.similarity_func.correlation_pearson,\n",
    "    features_in_step=1,  \n",
    "    perturb_baseline=\"black\",\n",
    "    return_aggregate=True, aggregate_func=np.mean, disable_warnings=True\n",
    ")( model=net,\n",
    "    x_batch=test_features,\n",
    "    y_batch=test_labels,\n",
    "    a_batch=None,\n",
    "    explain_func=quantus.explain,\n",
    "    explain_func_kwargs={\"method\": \"Occlusion\"},)"
   ]
  },
  {
   "cell_type": "code",
   "execution_count": 98,
   "id": "d958de00",
   "metadata": {},
   "outputs": [
    {
     "data": {
      "text/plain": [
       "[0.8006209759465347]"
      ]
     },
     "execution_count": 98,
     "metadata": {},
     "output_type": "execute_result"
    }
   ],
   "source": [
    "quantus.FaithfulnessEstimate(\n",
    "    perturb_func=quantus.perturb_func.baseline_replacement_by_blur,\n",
    "    similarity_func=quantus.similarity_func.correlation_pearson,\n",
    "    features_in_step=1,  \n",
    "    perturb_baseline=\"black\",\n",
    "    return_aggregate=True, aggregate_func=np.mean, disable_warnings=True\n",
    ")( model=net,\n",
    "    x_batch=test_features,\n",
    "    y_batch=test_labels,\n",
    "    a_batch=None,\n",
    "    explain_func=quantus.explain,\n",
    "    explain_func_kwargs={\"method\": \"DeepLift\"},)"
   ]
  },
  {
   "cell_type": "markdown",
   "id": "204c1533",
   "metadata": {},
   "source": [
    "# Faithfulness by Monotonocity"
   ]
  },
  {
   "cell_type": "code",
   "execution_count": 101,
   "id": "aa3705d4",
   "metadata": {},
   "outputs": [
    {
     "data": {
      "text/plain": [
       "[0.2762555712100272]"
      ]
     },
     "execution_count": 101,
     "metadata": {},
     "output_type": "execute_result"
    }
   ],
   "source": [
    "quantus.MonotonicityCorrelation(\n",
    "    nr_samples=5,\n",
    "    features_in_step=1,\n",
    "    perturb_baseline=\"uniform\",\n",
    "    perturb_func=quantus.perturb_func.baseline_replacement_by_blur,\n",
    "    similarity_func=quantus.similarity_func.correlation_spearman,\n",
    "    return_aggregate=True, aggregate_func=np.mean,disable_warnings=True\n",
    ")( model=net,\n",
    "    x_batch=test_features,\n",
    "    y_batch=test_labels,\n",
    "    a_batch=None,\n",
    "    explain_func=quantus.explain,\n",
    "    explain_func_kwargs={\"method\": \"Saliency\"},)"
   ]
  },
  {
   "cell_type": "code",
   "execution_count": 102,
   "id": "613702ec",
   "metadata": {},
   "outputs": [
    {
     "data": {
      "text/plain": [
       "[0.5399673716457719]"
      ]
     },
     "execution_count": 102,
     "metadata": {},
     "output_type": "execute_result"
    }
   ],
   "source": [
    "quantus.MonotonicityCorrelation(\n",
    "    nr_samples=5,\n",
    "    features_in_step=1,\n",
    "    perturb_baseline=\"uniform\",\n",
    "    perturb_func=quantus.perturb_func.baseline_replacement_by_blur,\n",
    "    similarity_func=quantus.similarity_func.correlation_spearman,\n",
    "    return_aggregate=True, aggregate_func=np.mean,disable_warnings=True\n",
    ")( model=net,\n",
    "    x_batch=test_features,\n",
    "    y_batch=test_labels,\n",
    "    a_batch=None,\n",
    "    explain_func=quantus.explain,\n",
    "    explain_func_kwargs={\"method\": \"GradientShap\"},)"
   ]
  },
  {
   "cell_type": "code",
   "execution_count": 104,
   "id": "83d95757",
   "metadata": {},
   "outputs": [
    {
     "data": {
      "text/plain": [
       "[0.5398932226903574]"
      ]
     },
     "execution_count": 104,
     "metadata": {},
     "output_type": "execute_result"
    }
   ],
   "source": [
    "quantus.MonotonicityCorrelation(\n",
    "    nr_samples=5,\n",
    "    features_in_step=1,\n",
    "    perturb_baseline=\"uniform\",\n",
    "    perturb_func=quantus.perturb_func.baseline_replacement_by_blur,\n",
    "    similarity_func=quantus.similarity_func.correlation_spearman,\n",
    "    return_aggregate=True, aggregate_func=np.mean,disable_warnings=True\n",
    ")( model=net,\n",
    "    x_batch=test_features,\n",
    "    y_batch=test_labels,\n",
    "    a_batch=None,\n",
    "    explain_func=quantus.explain,\n",
    "    explain_func_kwargs={\"method\": \"IntegratedGradients\"},)"
   ]
  },
  {
   "cell_type": "code",
   "execution_count": 105,
   "id": "f7099f2c",
   "metadata": {},
   "outputs": [
    {
     "data": {
      "text/plain": [
       "[0.5403455243045149]"
      ]
     },
     "execution_count": 105,
     "metadata": {},
     "output_type": "execute_result"
    }
   ],
   "source": [
    "quantus.MonotonicityCorrelation(\n",
    "    nr_samples=5,\n",
    "    features_in_step=1,\n",
    "    perturb_baseline=\"uniform\",\n",
    "    perturb_func=quantus.perturb_func.baseline_replacement_by_blur,\n",
    "    similarity_func=quantus.similarity_func.correlation_spearman,\n",
    "    return_aggregate=True, aggregate_func=np.mean,disable_warnings=True\n",
    ")( model=net,\n",
    "    x_batch=test_features,\n",
    "    y_batch=test_labels,\n",
    "    a_batch=None,\n",
    "    explain_func=quantus.explain,\n",
    "    explain_func_kwargs={\"method\": \"DeepLift\"},)"
   ]
  },
  {
   "cell_type": "code",
   "execution_count": 106,
   "id": "a4d624cd",
   "metadata": {},
   "outputs": [
    {
     "data": {
      "text/plain": [
       "[0.5490959944786276]"
      ]
     },
     "execution_count": 106,
     "metadata": {},
     "output_type": "execute_result"
    }
   ],
   "source": [
    "quantus.MonotonicityCorrelation(\n",
    "    nr_samples=5,\n",
    "    features_in_step=1,\n",
    "    perturb_baseline=\"uniform\",\n",
    "    perturb_func=quantus.perturb_func.baseline_replacement_by_blur,\n",
    "    similarity_func=quantus.similarity_func.correlation_spearman,\n",
    "    return_aggregate=True, aggregate_func=np.mean,disable_warnings=True\n",
    ")( model=net,\n",
    "    x_batch=test_features,\n",
    "    y_batch=test_labels,\n",
    "    a_batch=None,\n",
    "    explain_func=quantus.explain,\n",
    "    explain_func_kwargs={\"method\": \"Occlusion\"},)"
   ]
  },
  {
   "cell_type": "code",
   "execution_count": 107,
   "id": "4500ee3e",
   "metadata": {},
   "outputs": [
    {
     "data": {
      "text/plain": [
       "[0.5404108344738945]"
      ]
     },
     "execution_count": 107,
     "metadata": {},
     "output_type": "execute_result"
    }
   ],
   "source": [
    "quantus.MonotonicityCorrelation(\n",
    "    nr_samples=5,\n",
    "    features_in_step=1,\n",
    "    perturb_baseline=\"uniform\",\n",
    "    perturb_func=quantus.perturb_func.baseline_replacement_by_blur,\n",
    "    similarity_func=quantus.similarity_func.correlation_spearman,\n",
    "    return_aggregate=True, aggregate_func=np.mean,disable_warnings=True\n",
    ")( model=net,\n",
    "    x_batch=test_features,\n",
    "    y_batch=test_labels,\n",
    "    a_batch=None,\n",
    "    explain_func=quantus.explain,\n",
    "    explain_func_kwargs={\"method\": \"InputXGradient\"},)"
   ]
  },
  {
   "cell_type": "code",
   "execution_count": 108,
   "id": "cf80f95f",
   "metadata": {},
   "outputs": [
    {
     "data": {
      "text/plain": [
       "[0.021529775637926345]"
      ]
     },
     "execution_count": 108,
     "metadata": {},
     "output_type": "execute_result"
    }
   ],
   "source": [
    "quantus.MonotonicityCorrelation(\n",
    "    nr_samples=5,\n",
    "    features_in_step=1,\n",
    "    perturb_baseline=\"uniform\",\n",
    "    perturb_func=quantus.perturb_func.baseline_replacement_by_blur,\n",
    "    similarity_func=quantus.similarity_func.correlation_spearman,\n",
    "    return_aggregate=True, aggregate_func=np.mean,disable_warnings=True\n",
    ")( model=net,\n",
    "    x_batch=test_features,\n",
    "    y_batch=test_labels,\n",
    "    a_batch=None,\n",
    "    explain_func=quantus.explain,\n",
    "    explain_func_kwargs={\"method\": \"KernelShap\"},)"
   ]
  },
  {
   "cell_type": "markdown",
   "id": "26a7cf91",
   "metadata": {},
   "source": [
    "## Robustness"
   ]
  },
  {
   "cell_type": "markdown",
   "id": "75df66b8",
   "metadata": {},
   "source": [
    "#### Repeat for all xai methods one-by-one"
   ]
  },
  {
   "cell_type": "code",
   "execution_count": 119,
   "id": "f8c29870",
   "metadata": {
    "scrolled": true
   },
   "outputs": [
    {
     "data": {
      "text/plain": [
       "16.12595610922444"
      ]
     },
     "execution_count": 119,
     "metadata": {},
     "output_type": "execute_result"
    }
   ],
   "source": [
    "metric = quantus.LocalLipschitzEstimate(\n",
    "    nr_samples=5,\n",
    "    perturb_std=0.02,\n",
    "    perturb_mean=0.0,\n",
    "    norm_numerator=quantus.similarity_func.distance_euclidean,\n",
    "    norm_denominator=quantus.similarity_func.distance_euclidean,    \n",
    "    perturb_func=quantus.perturb_func.gaussian_noise,\n",
    "    similarity_func=quantus.similarity_func.lipschitz_constant,\n",
    "    return_aggregate=True, \n",
    "    disable_warnings=True,\n",
    "    aggregate_func=np.mean,)(model=net,\n",
    "    x_batch=test_features,\n",
    "    y_batch=test_labels,\n",
    "    a_batch=None,\n",
    "    explain_func=quantus.explain,\n",
    "    explain_func_kwargs={\"method\": \"KernelShap\"},)\n",
    "\n",
    "np.average(metric)"
   ]
  },
  {
   "cell_type": "markdown",
   "id": "54bb1a97",
   "metadata": {},
   "source": [
    "# Relative output stability \n"
   ]
  },
  {
   "cell_type": "markdown",
   "id": "1c980ce8",
   "metadata": {},
   "source": [
    "#### Repeat for all xai methods one-by-one"
   ]
  },
  {
   "cell_type": "code",
   "execution_count": 26,
   "id": "3964e629",
   "metadata": {
    "scrolled": true
   },
   "outputs": [],
   "source": [
    "from numpy import nanmean\n",
    "\n",
    "metric = quantus.RelativeOutputStability(nr_samples=10, normalise=True, disable_warnings=True,)(\n",
    "   model=net,\n",
    "    x_batch=test_features,\n",
    "    y_batch= test_labels,\n",
    "    a_batch=None,\n",
    "    explain_func=quantus.explain,\n",
    "    explain_func_kwargs={\"method\": \"Saliency\"},\n",
    "    return_nan_when_prediction_changes=True,\n",
    ")"
   ]
  },
  {
   "cell_type": "code",
   "execution_count": 27,
   "id": "4fbaceca",
   "metadata": {},
   "outputs": [
    {
     "data": {
      "text/plain": [
       "11.256501568188318"
      ]
     },
     "execution_count": 27,
     "metadata": {},
     "output_type": "execute_result"
    }
   ],
   "source": [
    "nanmean(np.log(metric))"
   ]
  },
  {
   "cell_type": "markdown",
   "id": "38969b3d",
   "metadata": {},
   "source": [
    "# Max-sensitivity"
   ]
  },
  {
   "cell_type": "markdown",
   "id": "31a0942c",
   "metadata": {},
   "source": [
    "#### Repeat for all xai methods one-by-one"
   ]
  },
  {
   "cell_type": "code",
   "execution_count": 39,
   "id": "a41785f4",
   "metadata": {},
   "outputs": [],
   "source": [
    "# Return max sensitivity scores in an one-liner - by calling the metric instance.\n",
    "metrics= quantus.MaxSensitivity(\n",
    "    nr_samples=10,\n",
    "    lower_bound=0.2,\n",
    "    norm_numerator=quantus.norm_func.fro_norm,\n",
    "    norm_denominator=quantus.norm_func.fro_norm,\n",
    "    perturb_func=quantus.perturb_func.uniform_noise,\n",
    "    similarity_func=quantus.similarity_func.difference,\n",
    "     return_aggregate=True, \n",
    "        return_nan_when_prediction_changes=True,\n",
    "    aggregate_func=np.mean,\n",
    "    disable_warnings=True,\n",
    "    \n",
    ")(model=net,\n",
    "    x_batch=test_features,\n",
    "    y_batch=test_labels,\n",
    "    a_batch=None,\n",
    "    explain_func=quantus.explain,\n",
    "    explain_func_kwargs={\"method\": \"KernelShap\"},)\n",
    "\n"
   ]
  },
  {
   "cell_type": "code",
   "execution_count": 40,
   "id": "dad0d61d",
   "metadata": {},
   "outputs": [
    {
     "data": {
      "text/plain": [
       "0.09880580957470435"
      ]
     },
     "execution_count": 40,
     "metadata": {},
     "output_type": "execute_result"
    }
   ],
   "source": [
    "nanmean(metrics)"
   ]
  },
  {
   "cell_type": "code",
   "execution_count": 53,
   "id": "bbec97e4",
   "metadata": {},
   "outputs": [],
   "source": [
    "metric = quantus.LocalLipschitzEstimate(\n",
    "    nr_samples=5,\n",
    "    perturb_std=0.02,\n",
    "    perturb_mean=0.0,\n",
    "    norm_numerator=quantus.similarity_func.distance_euclidean,\n",
    "    norm_denominator=quantus.similarity_func.distance_euclidean,    \n",
    "    perturb_func=quantus.perturb_func.gaussian_noise,\n",
    "    similarity_func=quantus.similarity_func.lipschitz_constant,\n",
    "    return_aggregate=True, \n",
    "    disable_warnings=True,\n",
    "    return_nan_when_prediction_changes=True,\n",
    "    aggregate_func=np.mean,)(model=net,\n",
    "    x_batch=test_features,\n",
    "    y_batch=test_labels,\n",
    "    a_batch=None,\n",
    "    explain_func=quantus.explain,\n",
    "    explain_func_kwargs={\"method\": \"KernelShap\"},)\n",
    "\n"
   ]
  },
  {
   "cell_type": "code",
   "execution_count": 54,
   "id": "f7b4f101",
   "metadata": {},
   "outputs": [
    {
     "data": {
      "text/plain": [
       "16.093940483039603"
      ]
     },
     "execution_count": 54,
     "metadata": {},
     "output_type": "execute_result"
    }
   ],
   "source": [
    "nanmean(metric)"
   ]
  },
  {
   "cell_type": "code",
   "execution_count": null,
   "id": "da6b16af",
   "metadata": {},
   "outputs": [],
   "source": []
  }
 ],
 "metadata": {
  "kernelspec": {
   "display_name": "sok-paper",
   "language": "python",
   "name": "sok-paper"
  },
  "language_info": {
   "codemirror_mode": {
    "name": "ipython",
    "version": 3
   },
   "file_extension": ".py",
   "mimetype": "text/x-python",
   "name": "python",
   "nbconvert_exporter": "python",
   "pygments_lexer": "ipython3",
   "version": "3.8.10"
  }
 },
 "nbformat": 4,
 "nbformat_minor": 5
}
